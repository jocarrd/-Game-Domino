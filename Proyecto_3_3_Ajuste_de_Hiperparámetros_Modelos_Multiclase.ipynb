{
  "cells": [
    {
      "cell_type": "markdown",
      "metadata": {
        "ExecuteTime": {
          "end_time": "2022-04-28T10:08:28.512855Z",
          "start_time": "2022-04-28T10:08:28.505864Z"
        },
        "id": "Lw66bXtBTG3N"
      },
      "source": [
        "- *Alumno*:\n",
        "- *Asignatura*: Ingeniería del Conocimiento\n",
        "- *Curso*: 2021/2022\n",
        "- *Profesor*: Fco. Javier Martínez de Pisón\n",
        "- Universidad de La Rioja"
      ]
    },
    {
      "cell_type": "markdown",
      "metadata": {
        "id": "dx8q4gHGTG3R"
      },
      "source": [
        "# Proyecto 3. Parte 3. Ajuste de Hiperparámetros en Modelos Multiclase"
      ]
    },
    {
      "cell_type": "markdown",
      "metadata": {
        "id": "7sS2oiUCTG3S"
      },
      "source": [
        "La búsqueda de los hiperparámetros óptimos de un modelo es un trabajo tedioso y que supone un coste computacional elevado, sobretodo si los modelos se construyen con bases de datos grandes. Existen diversas formas de realizar esta tarea. Habitualmente, las formas más comunes son las siguientes:\n",
        "\n",
        "- **Ajuste del hiperparámetro uno a uno**. Se elige el hiperparámetro que afecta más a la precisión del modelo, habitualmente suelen ser hiperparámetros que tienen que ver con el tamaño del modelo (cómo el número de neuronas ocultas en redes neuronales, la profundidad del árbol, el número de K vecinos, o el número de árboles en RandomForest o Gradient Boosting Machines) o que tengan que ver con la velocidad del aprendizaje (como el learning rate en gradient boosting machines). Posteriormente, se ajustan otros parámetros que permiten afinar más el ajuste. Este método, suele ser una buena opción para reducir los tiempos pero es muy importante conocer cada uno de los hiperparámetros de un modelo.\n",
        "- **Ajuste en Rejilla**. Es muy exhaustivo pero costoso computacionalmente. No recomendable con más de 3 hiperparámetros. Habitualmente, se comienza con rejillas con pasos grandes y se va repiendo la rejilla con pasos más finos en la zona donde se obtienen los mejores modelos.\n",
        "- **Método Aleatorio**. Se realiza una busqueda aleatoria dentro de los rangos de los hiperparámetros y se va reduciendo los rangos donde se observan mejores modelos.\n",
        "- **Método Bayesiano**. Basado en modelos bayesianos que tratan de encontrar los mejores hiperparámetros en base a los anteriores.\n",
        "- **Métodos de Optimización Evolutivos como, por ejemplo, los Algoritmos Genéticos o basados en Enjambre de Partículas**. Son muy costosos computacionalmente pero pueden encontrar soluciones muy precisas.\n",
        "\n",
        "Aunque este proceso puede automatizarse **es muy importante entender que la búsqueda de los mejores modelos en un proyecto de machine learning depende de muchos factores que corresponden al KDD**: la calidad de la información, el preprocesado y limpieza de los datos, la selección e importancia de las características, la selección correcta de la métrica, el proceso de validación de los modelos, etc. Es por ello, que el éxito en la creación de los modelos depende de muchos factores previos.\n",
        "\n",
        "Así mismo, es **muy importante entender qué hace cada hiperparámetro en un modelo, para qué sirve y cuál es su cometido**."
      ]
    },
    {
      "cell_type": "code",
      "execution_count": 1,
      "metadata": {
        "ExecuteTime": {
          "end_time": "2021-04-20T08:05:32.030531Z",
          "start_time": "2021-04-20T08:05:28.842198Z"
        },
        "id": "7yAsMsrhTG3T",
        "outputId": "311882b5-0592-47f6-9b99-666f9edd1fc4",
        "colab": {
          "base_uri": "https://localhost:8080/"
        }
      },
      "outputs": [
        {
          "output_type": "stream",
          "name": "stdout",
          "text": [
            "Looking in indexes: https://pypi.org/simple, https://us-python.pkg.dev/colab-wheels/public/simple/\n",
            "Collecting bayesian-optimization\n",
            "  Downloading bayesian-optimization-1.2.0.tar.gz (14 kB)\n",
            "Requirement already satisfied: numpy>=1.9.0 in /usr/local/lib/python3.7/dist-packages (from bayesian-optimization) (1.21.6)\n",
            "Requirement already satisfied: scipy>=0.14.0 in /usr/local/lib/python3.7/dist-packages (from bayesian-optimization) (1.4.1)\n",
            "Requirement already satisfied: scikit-learn>=0.18.0 in /usr/local/lib/python3.7/dist-packages (from bayesian-optimization) (1.0.2)\n",
            "Requirement already satisfied: threadpoolctl>=2.0.0 in /usr/local/lib/python3.7/dist-packages (from scikit-learn>=0.18.0->bayesian-optimization) (3.1.0)\n",
            "Requirement already satisfied: joblib>=0.11 in /usr/local/lib/python3.7/dist-packages (from scikit-learn>=0.18.0->bayesian-optimization) (1.1.0)\n",
            "Building wheels for collected packages: bayesian-optimization\n",
            "  Building wheel for bayesian-optimization (setup.py) ... \u001b[?25l\u001b[?25hdone\n",
            "  Created wheel for bayesian-optimization: filename=bayesian_optimization-1.2.0-py3-none-any.whl size=11685 sha256=f1c3a37381cdda9d85435e60c03b38caf1a8d34c98fb0f3beaa4b3c5d1e7e702\n",
            "  Stored in directory: /root/.cache/pip/wheels/fd/9b/71/f127d694e02eb40bcf18c7ae9613b88a6be4470f57a8528c5b\n",
            "Successfully built bayesian-optimization\n",
            "Installing collected packages: bayesian-optimization\n",
            "Successfully installed bayesian-optimization-1.2.0\n",
            "Looking in indexes: https://pypi.org/simple, https://us-python.pkg.dev/colab-wheels/public/simple/\n",
            "Requirement already satisfied: lightgbm in /usr/local/lib/python3.7/dist-packages (2.2.3)\n",
            "Requirement already satisfied: scipy in /usr/local/lib/python3.7/dist-packages (from lightgbm) (1.4.1)\n",
            "Requirement already satisfied: numpy in /usr/local/lib/python3.7/dist-packages (from lightgbm) (1.21.6)\n",
            "Requirement already satisfied: scikit-learn in /usr/local/lib/python3.7/dist-packages (from lightgbm) (1.0.2)\n",
            "Requirement already satisfied: joblib>=0.11 in /usr/local/lib/python3.7/dist-packages (from scikit-learn->lightgbm) (1.1.0)\n",
            "Requirement already satisfied: threadpoolctl>=2.0.0 in /usr/local/lib/python3.7/dist-packages (from scikit-learn->lightgbm) (3.1.0)\n",
            "Looking in indexes: https://pypi.org/simple, https://us-python.pkg.dev/colab-wheels/public/simple/\n",
            "Requirement already satisfied: xgboost in /usr/local/lib/python3.7/dist-packages (0.90)\n",
            "Collecting xgboost\n",
            "  Downloading xgboost-1.6.1-py3-none-manylinux2014_x86_64.whl (192.9 MB)\n",
            "\u001b[K     |████████████████████████████████| 192.9 MB 58 kB/s \n",
            "\u001b[?25hRequirement already satisfied: numpy in /usr/local/lib/python3.7/dist-packages (from xgboost) (1.21.6)\n",
            "Requirement already satisfied: scipy in /usr/local/lib/python3.7/dist-packages (from xgboost) (1.4.1)\n",
            "Installing collected packages: xgboost\n",
            "  Attempting uninstall: xgboost\n",
            "    Found existing installation: xgboost 0.90\n",
            "    Uninstalling xgboost-0.90:\n",
            "      Successfully uninstalled xgboost-0.90\n",
            "Successfully installed xgboost-1.6.1\n"
          ]
        }
      ],
      "source": [
        "!pip install bayesian-optimization\n",
        "!pip install lightgbm\n",
        "!pip install xgboost --upgrade"
      ]
    },
    {
      "cell_type": "code",
      "execution_count": 2,
      "metadata": {
        "ExecuteTime": {
          "end_time": "2022-04-28T10:31:56.684647Z",
          "start_time": "2022-04-28T10:31:54.482748Z"
        },
        "id": "-lWS8w7lTG3W"
      },
      "outputs": [],
      "source": [
        "# Importamos paquetes basicos\n",
        "import pandas as pd \n",
        "import numpy as np\n",
        "import matplotlib.pyplot as plt\n",
        "import seaborn as sns\n",
        "import io\n",
        "# from tqdm.notebook import tqdm\n",
        "from tqdm.notebook import tqdm\n",
        "\n",
        "import sklearn\n",
        "from sklearn.preprocessing import LabelEncoder, StandardScaler\n",
        "from sklearn.ensemble import RandomForestClassifier, BaggingClassifier \n",
        "from sklearn.metrics import log_loss\n",
        "from sklearn.calibration import CalibratedClassifierCV\n",
        "from sklearn.model_selection import RepeatedStratifiedKFold, train_test_split\n",
        "from sklearn.linear_model import LogisticRegression\n",
        "\n",
        "from bayes_opt import BayesianOptimization\n",
        "\n",
        "from lightgbm.sklearn import LGBMClassifier\n",
        "from xgboost.sklearn import XGBClassifier\n",
        "\n",
        "# %matplotlib inline\n",
        "plt.style.use('ggplot')\n",
        "# Elimina la limitación en visualización del numero de columnas\n",
        "pd.set_option('display.max_columns', None) "
      ]
    },
    {
      "cell_type": "markdown",
      "metadata": {
        "id": "jbrUB3JnTG3Y"
      },
      "source": [
        "## Cargamos la Base de Datos"
      ]
    },
    {
      "cell_type": "code",
      "execution_count": 3,
      "metadata": {
        "ExecuteTime": {
          "end_time": "2021-04-20T08:05:32.403247Z",
          "start_time": "2021-04-20T08:05:32.048550Z"
        },
        "id": "z08x90eHTG3Y",
        "outputId": "bcc7f807-51e3-46ce-a2ba-e5020feffee4",
        "colab": {
          "base_uri": "https://localhost:8080/"
        }
      },
      "outputs": [
        {
          "output_type": "stream",
          "name": "stdout",
          "text": [
            "--2022-06-08 18:08:51--  https://github.com/IC1920/Datasets/raw/master/train.zip\n",
            "Resolving github.com (github.com)... 140.82.113.4\n",
            "Connecting to github.com (github.com)|140.82.113.4|:443... connected.\n",
            "HTTP request sent, awaiting response... 302 Found\n",
            "Location: https://raw.githubusercontent.com/IC1920/Datasets/master/train.zip [following]\n",
            "--2022-06-08 18:08:51--  https://raw.githubusercontent.com/IC1920/Datasets/master/train.zip\n",
            "Resolving raw.githubusercontent.com (raw.githubusercontent.com)... 185.199.108.133, 185.199.109.133, 185.199.110.133, ...\n",
            "Connecting to raw.githubusercontent.com (raw.githubusercontent.com)|185.199.108.133|:443... connected.\n",
            "HTTP request sent, awaiting response... 200 OK\n",
            "Length: 1655239 (1.6M) [application/zip]\n",
            "Saving to: ‘train.zip’\n",
            "\n",
            "train.zip           100%[===================>]   1.58M  --.-KB/s    in 0.06s   \n",
            "\n",
            "2022-06-08 18:08:51 (28.0 MB/s) - ‘train.zip’ saved [1655239/1655239]\n",
            "\n",
            "--2022-06-08 18:08:51--  https://github.com/IC1920/Datasets/raw/master/test.zip\n",
            "Resolving github.com (github.com)... 140.82.112.3\n",
            "Connecting to github.com (github.com)|140.82.112.3|:443... connected.\n",
            "HTTP request sent, awaiting response... 302 Found\n",
            "Location: https://raw.githubusercontent.com/IC1920/Datasets/master/test.zip [following]\n",
            "--2022-06-08 18:08:52--  https://raw.githubusercontent.com/IC1920/Datasets/master/test.zip\n",
            "Resolving raw.githubusercontent.com (raw.githubusercontent.com)... 185.199.108.133, 185.199.109.133, 185.199.110.133, ...\n",
            "Connecting to raw.githubusercontent.com (raw.githubusercontent.com)|185.199.108.133|:443... connected.\n",
            "HTTP request sent, awaiting response... 200 OK\n",
            "Length: 3932571 (3.8M) [application/zip]\n",
            "Saving to: ‘test.zip’\n",
            "\n",
            "test.zip            100%[===================>]   3.75M  --.-KB/s    in 0.07s   \n",
            "\n",
            "2022-06-08 18:08:52 (54.1 MB/s) - ‘test.zip’ saved [3932571/3932571]\n",
            "\n",
            "Archive:  train.zip\n",
            "  inflating: train.csv               \n",
            "Archive:  test.zip\n",
            "  inflating: test.csv                \n"
          ]
        }
      ],
      "source": [
        "!wget https://github.com/IC1920/Datasets/raw/master/train.zip -O train.zip\n",
        "!wget https://github.com/IC1920/Datasets/raw/master/test.zip -O test.zip\n",
        "!unzip -o train.zip\n",
        "!unzip -o test.zip"
      ]
    },
    {
      "cell_type": "code",
      "execution_count": 4,
      "metadata": {
        "ExecuteTime": {
          "end_time": "2022-04-28T10:32:00.962265Z",
          "start_time": "2022-04-28T10:32:00.099106Z"
        },
        "id": "fEZDuXmYTG3Z",
        "outputId": "0aad9b75-afc2-4780-f294-ef38035ae900",
        "colab": {
          "base_uri": "https://localhost:8080/"
        }
      },
      "outputs": [
        {
          "output_type": "stream",
          "name": "stdout",
          "text": [
            "(61878, 95) (144368, 94)\n"
          ]
        }
      ],
      "source": [
        "# Leemos los archivos arff\n",
        "df_train = pd.read_csv('train.csv')\n",
        "df_test = pd.read_csv('test.csv')\n",
        "print(df_train.shape, df_test.shape)\n",
        "\n",
        "features = ['feat_'+str(i) for i in np.arange(1,94)]\n",
        "target = 'target'"
      ]
    },
    {
      "cell_type": "markdown",
      "metadata": {
        "id": "dkAbesfqTG3Z"
      },
      "source": [
        "## Preprocesado de la Base de Datos"
      ]
    },
    {
      "cell_type": "markdown",
      "metadata": {
        "id": "jnNIyjEtTG3c"
      },
      "source": [
        "Aunque a los árboles no les suele afectar en demasía que las variables tengan diferentes rangos, vamos a tipificar los datos con *Z-Score* para si vamos a usar otros algoritmos supervisados, como KNN, o no supervisados, como clústering."
      ]
    },
    {
      "cell_type": "code",
      "execution_count": 5,
      "metadata": {
        "ExecuteTime": {
          "end_time": "2022-04-28T10:32:04.096647Z",
          "start_time": "2022-04-28T10:32:03.765119Z"
        },
        "id": "5gSg6l6KTG3c"
      },
      "outputs": [],
      "source": [
        "scaler = StandardScaler()\n",
        "X_train = df_train[features].values.copy()\n",
        "X_test = df_test[features].values.copy()\n",
        "scaler.fit(X_train)\n",
        "X_train_scaled = scaler.transform(X_train)\n",
        "X_test_scaled = scaler.transform(X_test)"
      ]
    },
    {
      "cell_type": "markdown",
      "metadata": {
        "id": "Acq8vSbcTG3d"
      },
      "source": [
        "Preparamos las bases de datos. Para poder hacer una validación local, extraemos un 20% de forma aleatoria de forma estratificada."
      ]
    },
    {
      "cell_type": "code",
      "execution_count": 6,
      "metadata": {
        "ExecuteTime": {
          "end_time": "2022-04-28T10:32:09.330298Z",
          "start_time": "2022-04-28T10:32:09.257930Z"
        },
        "id": "AhrhVx4_TG3d",
        "outputId": "47f96e17-94d0-4d68-9268-68014c2e7633",
        "colab": {
          "base_uri": "https://localhost:8080/"
        }
      },
      "outputs": [
        {
          "output_type": "stream",
          "name": "stdout",
          "text": [
            "Verificamos que la partición es estratificada\n",
            "[0.031 0.261 0.129 0.043 0.044 0.228 0.046 0.137 0.08 ]\n",
            "[0.031 0.261 0.129 0.043 0.044 0.228 0.046 0.137 0.08 ]\n"
          ]
        }
      ],
      "source": [
        "X = X_train_scaled\n",
        "y = df_train[target].values.reshape(-1)\n",
        "y = LabelEncoder().fit_transform(y)\n",
        "\n",
        "X_train, X_val, y_train, y_val = train_test_split(X, y, test_size=0.20, random_state=36, stratify=y)\n",
        "\n",
        "print(\"Verificamos que la partición es estratificada\")\n",
        "print(np.round(np.bincount(y_train)/len(y_train),3))\n",
        "print(np.round(np.bincount(y_val)/len(y_val),3))"
      ]
    },
    {
      "cell_type": "code",
      "execution_count": 7,
      "metadata": {
        "ExecuteTime": {
          "end_time": "2022-04-28T10:32:13.798007Z",
          "start_time": "2022-04-28T10:32:13.778018Z"
        },
        "id": "eV1gB3buTG3e"
      },
      "outputs": [],
      "source": [
        "def entrena_model_hold_out(model, calibra=True):\n",
        "    np.random.seed(2020)\n",
        "    if calibra:\n",
        "        calibrated_clf = CalibratedClassifierCV(model, method='isotonic', cv=5)\n",
        "        calibrated_clf.fit(X_train, y_train)\n",
        "        preds_val = calibrated_clf.predict_proba(X_val)\n",
        "    else:\n",
        "        model.fit(X_train, y_train)\n",
        "        preds_val = model.predict_proba(X_val)\n",
        "\n",
        "    # Extrae las métricas\n",
        "    log_loss_val = log_loss(y_val, preds_val, eps=1e-15, normalize=True)\n",
        "    return log_loss_val"
      ]
    },
    {
      "cell_type": "markdown",
      "metadata": {
        "id": "7WyWiibsTG3e"
      },
      "source": [
        "Con fines didácticos, vamos a hacer una búsqueda simple del número de árboles."
      ]
    },
    {
      "cell_type": "markdown",
      "metadata": {
        "id": "-xtxwvVuTG3f"
      },
      "source": [
        "**ATENCION: El coste computacional de las búsqueda de los mejores Hiperparámetros de los modelos es elevado. NO EJECUTAR EL CALCULO SI NO SE DISPONE DE UN EQUIPO LOCAL DE ALTAS PRESTACIONES.**"
      ]
    },
    {
      "cell_type": "code",
      "execution_count": null,
      "metadata": {
        "ExecuteTime": {
          "end_time": "2022-04-28T11:15:07.798179Z",
          "start_time": "2022-04-28T10:56:13.922235Z"
        },
        "id": "o9RvrUV4TG3g",
        "outputId": "87624ce1-e65c-4205-93df-3408809d7ab8",
        "colab": {
          "referenced_widgets": [
            "053a33e87cce4a42851ddd2ec41fa15b"
          ]
        }
      },
      "outputs": [
        {
          "data": {
            "application/vnd.jupyter.widget-view+json": {
              "model_id": "053a33e87cce4a42851ddd2ec41fa15b",
              "version_major": 2,
              "version_minor": 0
            },
            "text/plain": [
              "  0%|          | 0/11 [00:00<?, ?it/s]"
            ]
          },
          "metadata": {},
          "output_type": "display_data"
        },
        {
          "name": "stdout",
          "output_type": "stream",
          "text": [
            "n_estimators=200 log_loss_val=0.4876483509319149\n",
            "n_estimators=300 log_loss_val=0.4858656407676537\n",
            "n_estimators=400 log_loss_val=0.48496375036777034\n",
            "n_estimators=500 log_loss_val=0.4869548356135196\n",
            "n_estimators=600 log_loss_val=0.48462076575304075\n",
            "n_estimators=700 log_loss_val=0.48475844473067925\n",
            "n_estimators=800 log_loss_val=0.4851488831184257\n",
            "n_estimators=900 log_loss_val=0.4868171530945908\n",
            "n_estimators=1000 log_loss_val=0.4866869712319184\n",
            "n_estimators=1100 log_loss_val=0.48678893450104727\n",
            "n_estimators=1200 log_loss_val=0.48480643019250264\n",
            "Mejor n_estimator=600\n",
            "Wall time: 18min 53s\n"
          ]
        },
        {
          "data": {
            "image/png": "[encoded data removed]",
            "text/plain": [
              "<Figure size 432x288 with 1 Axes>"
            ]
          },
          "metadata": {},
          "output_type": "display_data"
        }
      ],
      "source": [
        "%%time\n",
        "scores = []\n",
        "lestimators = np.arange(200,1300,100)\n",
        "for n_estimators in tqdm(lestimators):\n",
        "    rf_model = RandomForestClassifier(n_estimators=n_estimators,n_jobs=-1, random_state=1234)\n",
        "    log_loss_val = entrena_model_hold_out(rf_model, calibra=True)\n",
        "    print(f'n_estimators={n_estimators} log_loss_val={log_loss_val}')\n",
        "    scores.append(log_loss_val)\n",
        "\n",
        "plt.plot(lestimators,scores,'o-')\n",
        "plt.ylabel('log_loss_val')\n",
        "plt.xlabel(\"n_estimator\")\n",
        "print(f'Mejor n_estimator={lestimators[np.argmin(scores)]}')"
      ]
    },
    {
      "cell_type": "markdown",
      "metadata": {
        "id": "KTtWz-FPTG3g"
      },
      "source": [
        "Vemos que a el menor error se obtiene con 600 árboles. Vamos a ver si controlando el tamaño de los árboles podemos mejorar. En este caso, vamos a ajustar *min_samples_split* que corresponde con el numero minimo de muestras requeridas para poder dividir un nodo. "
      ]
    },
    {
      "cell_type": "code",
      "execution_count": null,
      "metadata": {
        "ExecuteTime": {
          "end_time": "2022-04-28T11:24:04.431139Z",
          "start_time": "2022-04-28T11:19:49.296702Z"
        },
        "id": "M0u3umd1TG3h",
        "outputId": "862a153f-c4aa-4fbd-9576-2c3193c7647d",
        "colab": {
          "referenced_widgets": [
            "99a6dd8ea8e54bab84e9e622b3c3fbda"
          ]
        }
      },
      "outputs": [
        {
          "data": {
            "application/vnd.jupyter.widget-view+json": {
              "model_id": "99a6dd8ea8e54bab84e9e622b3c3fbda",
              "version_major": 2,
              "version_minor": 0
            },
            "text/plain": [
              "  0%|          | 0/3 [00:00<?, ?it/s]"
            ]
          },
          "metadata": {},
          "output_type": "display_data"
        },
        {
          "name": "stdout",
          "output_type": "stream",
          "text": [
            "min_samples_split=2 log_loss_val=0.48462076575304075\n",
            "min_samples_split=3 log_loss_val=0.4859706843580878\n",
            "min_samples_split=4 log_loss_val=0.48785412283958773\n",
            "Mejor min_samples_split=2 log_loss_val=0.48462076575304075\n",
            "Wall time: 4min 14s\n"
          ]
        },
        {
          "data": {
            "image/png": "[encoded data removed]",
            "text/plain": [
              "<Figure size 432x288 with 1 Axes>"
            ]
          },
          "metadata": {},
          "output_type": "display_data"
        }
      ],
      "source": [
        "%%time\n",
        "scores = []\n",
        "lminsplit = np.arange(2,5)\n",
        "for minsplit in tqdm(lminsplit):\n",
        "    rf_model = RandomForestClassifier(min_samples_split=minsplit,\n",
        "                                      n_estimators=600,\n",
        "                                      n_jobs=-1,\n",
        "                                      random_state=1234)\n",
        "    log_loss_val = entrena_model_hold_out(rf_model, calibra=True)\n",
        "    print(f'min_samples_split={minsplit} log_loss_val={log_loss_val}')\n",
        "    scores.append(log_loss_val)\n",
        "    \n",
        "plt.plot(lminsplit,scores,'o-')\n",
        "plt.ylabel('log_loss_val')\n",
        "plt.xlabel(\"min_samples_split\")\n",
        "print(f'Mejor min_samples_split={lminsplit[np.argmin(scores)]} log_loss_val={np.min(scores)}')"
      ]
    },
    {
      "cell_type": "markdown",
      "metadata": {
        "id": "2cWbnzhZTG3i"
      },
      "source": [
        "Vamos a ver si ampliando o reduciendo el número de atributos podemos mejorar levemente el error. Por defecto, RF usa *sqrt(len(features))=9.64=9* features."
      ]
    },
    {
      "cell_type": "code",
      "execution_count": null,
      "metadata": {
        "ExecuteTime": {
          "end_time": "2022-04-28T11:36:30.042142Z",
          "start_time": "2022-04-28T11:28:04.881704Z"
        },
        "id": "463vblsHTG3i",
        "outputId": "6fedae93-d056-4409-a2ec-dc108059b6a1",
        "colab": {
          "referenced_widgets": [
            "a4070a2df8c844bdbb5af52d8b9b24b0"
          ]
        }
      },
      "outputs": [
        {
          "data": {
            "application/vnd.jupyter.widget-view+json": {
              "model_id": "a4070a2df8c844bdbb5af52d8b9b24b0",
              "version_major": 2,
              "version_minor": 0
            },
            "text/plain": [
              "  0%|          | 0/6 [00:00<?, ?it/s]"
            ]
          },
          "metadata": {},
          "output_type": "display_data"
        },
        {
          "name": "stdout",
          "output_type": "stream",
          "text": [
            "max_features=6 log_loss_val=0.4933685442522172\n",
            "max_features=7 log_loss_val=0.49042836718750865\n",
            "max_features=8 log_loss_val=0.48508826561638274\n",
            "max_features=9 log_loss_val=0.48462076575304075\n",
            "max_features=10 log_loss_val=0.4882799111015216\n",
            "max_features=11 log_loss_val=0.486590386451606\n",
            "Mejor max_features 9\n",
            "Wall time: 8min 24s\n"
          ]
        },
        {
          "data": {
            "image/png": "[encoded data removed]",
            "text/plain": [
              "<Figure size 432x288 with 1 Axes>"
            ]
          },
          "metadata": {},
          "output_type": "display_data"
        }
      ],
      "source": [
        "%%time\n",
        "scores = []\n",
        "lfeatures = np.arange(6,12)\n",
        "for max_features in tqdm(lfeatures):\n",
        "    rf_model = RandomForestClassifier(max_features=max_features,\n",
        "                                      n_estimators=600,\n",
        "                                      min_samples_split=2,\n",
        "                                      n_jobs=-1,\n",
        "                                      random_state=1234)\n",
        "    log_loss_val = entrena_model_hold_out(rf_model, calibra=True)\n",
        "    print(f'max_features={max_features} log_loss_val={log_loss_val}')\n",
        "    scores.append(log_loss_val)\n",
        "    \n",
        "plt.plot(lfeatures,scores,'o-')\n",
        "plt.ylabel('log_loss_val')\n",
        "plt.xlabel(\"max_features\")\n",
        "print(f'Mejor max_features {lfeatures[np.argmin(scores)]}')"
      ]
    },
    {
      "cell_type": "markdown",
      "metadata": {
        "id": "Kf8fE575TG3j"
      },
      "source": [
        "No hay cambios. Afinamos ahora el numero de arboles final."
      ]
    },
    {
      "cell_type": "code",
      "execution_count": null,
      "metadata": {
        "ExecuteTime": {
          "end_time": "2022-04-28T12:02:26.828674Z",
          "start_time": "2022-04-28T11:52:18.090467Z"
        },
        "id": "vL_aTZdRTG3j",
        "outputId": "7cf46d9b-ea34-41c3-ff21-cb2d89700581",
        "colab": {
          "referenced_widgets": [
            "a72e6af15c03446f865aa1fde97c8404"
          ]
        }
      },
      "outputs": [
        {
          "data": {
            "application/vnd.jupyter.widget-view+json": {
              "model_id": "a72e6af15c03446f865aa1fde97c8404",
              "version_major": 2,
              "version_minor": 0
            },
            "text/plain": [
              "  0%|          | 0/7 [00:00<?, ?it/s]"
            ]
          },
          "metadata": {},
          "output_type": "display_data"
        },
        {
          "name": "stdout",
          "output_type": "stream",
          "text": [
            "n_estimators=525 log_loss_val=0.48487162927019983\n",
            "n_estimators=550 log_loss_val=0.4847339404823144\n",
            "n_estimators=575 log_loss_val=0.4846981127832806\n",
            "n_estimators=600 log_loss_val=0.48462076575304075\n",
            "n_estimators=625 log_loss_val=0.4849201153785705\n",
            "n_estimators=650 log_loss_val=0.48460451402401566\n",
            "n_estimators=675 log_loss_val=0.48476489900470854\n",
            "Mejor n_estimator=650\n",
            "Wall time: 10min 8s\n"
          ]
        },
        {
          "data": {
            "image/png": "[encoded data removed]",
            "text/plain": [
              "<Figure size 432x288 with 1 Axes>"
            ]
          },
          "metadata": {},
          "output_type": "display_data"
        }
      ],
      "source": [
        "%%time\n",
        "scores = []\n",
        "lestimators = np.arange(525,700,25)\n",
        "for n_estimators in tqdm(lestimators):\n",
        "    rf_model = RandomForestClassifier(n_estimators=n_estimators,\n",
        "                                      min_samples_split=2,\n",
        "                                      max_features=9,\n",
        "                                      n_jobs=-1,\n",
        "                                      random_state=1234)\n",
        "    log_loss_val = entrena_model_hold_out(rf_model, calibra=True)\n",
        "    print(f'n_estimators={n_estimators} log_loss_val={log_loss_val}')\n",
        "    scores.append(log_loss_val)\n",
        "    \n",
        "plt.plot(lestimators,scores,'o-')\n",
        "plt.ylabel('log_loss_val')\n",
        "plt.xlabel(\"n_estimator\")\n",
        "print(f'Mejor n_estimator={lestimators[np.argmin(scores)]}')"
      ]
    },
    {
      "cell_type": "markdown",
      "metadata": {
        "id": "Ee0YcDSwTG3k"
      },
      "source": [
        "**La configuración final es:**\n",
        "\n",
        "- n_estimators=650\n",
        "- min_samples_split=2\n",
        "- max_features=9\n",
        "\n",
        "**con un log_loss=0.48460451402401566**"
      ]
    },
    {
      "cell_type": "markdown",
      "metadata": {
        "id": "mKvThGm6TG3l"
      },
      "source": [
        "## Modelo Logístico"
      ]
    },
    {
      "cell_type": "markdown",
      "metadata": {
        "id": "ccH3dnlVTG3l"
      },
      "source": [
        "Probamos un primer modelo Logistic"
      ]
    },
    {
      "cell_type": "code",
      "execution_count": null,
      "metadata": {
        "id": "wFjTAJqpTG3l",
        "outputId": "ee20d0a8-f4ca-4d84-ddbf-cb1341ae67b1"
      },
      "outputs": [
        {
          "name": "stdout",
          "output_type": "stream",
          "text": [
            "log_loss_val=0.6399495176954089\n"
          ]
        }
      ],
      "source": [
        "%%time\n",
        "logistic_model = LogisticRegression(n_jobs=-1,class_weight=None,random_state=42)\n",
        "log_loss_val = entrena_model_hold_out(logistic_model, calibra=False)\n",
        "print(f'log_loss_val={log_loss_val}')"
      ]
    },
    {
      "cell_type": "code",
      "execution_count": null,
      "metadata": {
        "id": "bbDJgvg7TG3m",
        "outputId": "85f9a653-349e-475f-9e59-e00be2b91f2d"
      },
      "outputs": [
        {
          "name": "stdout",
          "output_type": "stream",
          "text": [
            "log_loss_val=0.9080750998107069\n"
          ]
        }
      ],
      "source": [
        "%%time\n",
        "logistic_model = LogisticRegression(n_jobs=-1,class_weight=None,random_state=42)\n",
        "log_loss_val = entrena_model_hold_out(logistic_model, calibra=True)\n",
        "print(f'log_loss_val={log_loss_val}')"
      ]
    },
    {
      "cell_type": "markdown",
      "metadata": {
        "id": "QboZppP7TG3n"
      },
      "source": [
        "Vemos que la calibración no mejora la predicción. Probamos con el calibrado con *sigmoid*"
      ]
    },
    {
      "cell_type": "code",
      "execution_count": null,
      "metadata": {
        "id": "Ho1OHv9yTG3n",
        "outputId": "9a84b9b4-bcbc-40bc-e835-23986b0282eb"
      },
      "outputs": [
        {
          "name": "stdout",
          "output_type": "stream",
          "text": [
            "log_loss_val=1.0376368752677683\n"
          ]
        }
      ],
      "source": [
        "%%time\n",
        "logistic_model = LogisticRegression(n_jobs=-1,class_weight=None,random_state=42)\n",
        "calibrated_clf = CalibratedClassifierCV(logistic_model, method='sigmoid', cv=5)\n",
        "calibrated_clf.fit(X_train, y_train)\n",
        "preds_val = calibrated_clf.predict_proba(X_val)\n",
        "log_loss_val = log_loss(y_val, preds_val, eps=1e-15, normalize=True)\n",
        "print(f'log_loss_val={log_loss_val}')"
      ]
    },
    {
      "cell_type": "markdown",
      "metadata": {
        "id": "aALXoA-ATG3o"
      },
      "source": [
        "En este caso, debemos prescindir del calibrado en el modelo logistico.\n",
        "\n",
        "Ahora, vamos a ver cual es el mejor numero de iteraciones en el proceso de optimización del modelo logstico."
      ]
    },
    {
      "cell_type": "code",
      "execution_count": null,
      "metadata": {
        "id": "zp4GNzAzTG3o",
        "outputId": "0d8d1baf-f956-4bdf-ef88-dcac62954b2f"
      },
      "outputs": [
        {
          "data": {
            "application/vnd.jupyter.widget-view+json": {
              "model_id": "7667c19c543640ce901163357ffebf99",
              "version_major": 2,
              "version_minor": 0
            },
            "text/plain": [
              "HBox(children=(FloatProgress(value=0.0, max=14.0), HTML(value='')))"
            ]
          },
          "metadata": {},
          "output_type": "display_data"
        },
        {
          "name": "stdout",
          "output_type": "stream",
          "text": [
            "max_iter=100 log_loss_val=0.6399495176954089\n",
            "max_iter=150 log_loss_val=0.6389617295064111\n",
            "max_iter=200 log_loss_val=0.6388004360079969\n",
            "max_iter=250 log_loss_val=0.6386921703724855\n",
            "max_iter=300 log_loss_val=0.6385755076273876\n",
            "max_iter=350 log_loss_val=0.6386158769814523\n",
            "max_iter=400 log_loss_val=0.6385800277106308\n",
            "max_iter=450 log_loss_val=0.638554209840292\n",
            "max_iter=500 log_loss_val=0.6385569270373685\n",
            "max_iter=550 log_loss_val=0.6385569270373685\n",
            "max_iter=600 log_loss_val=0.6385569270373685\n",
            "max_iter=650 log_loss_val=0.6385569270373685\n",
            "max_iter=700 log_loss_val=0.6385569270373685\n",
            "max_iter=750 log_loss_val=0.6385569270373685\n",
            "\n",
            "Logistic Mejor max_iter=450 score=0.638554209840292\n"
          ]
        },
        {
          "data": {
            "image/png": "[encoded data removed]",
            "text/plain": [
              "<Figure size 432x288 with 1 Axes>"
            ]
          },
          "metadata": {},
          "output_type": "display_data"
        }
      ],
      "source": [
        "%%time\n",
        "scores = []\n",
        "lmax_iter = np.arange(100,800,50)\n",
        "for maxi in tqdm(lmax_iter):\n",
        "    logistic_model = LogisticRegression(max_iter=maxi,n_jobs=-1,class_weight=None,random_state=42)\n",
        "    log_loss_val = entrena_model_hold_out(logistic_model, calibra=False)\n",
        "    print(f'max_iter={maxi} log_loss_val={log_loss_val}')\n",
        "    scores.append(log_loss_val)\n",
        "    \n",
        "plt.plot(lmax_iter,scores,'o-')\n",
        "plt.ylabel('log_loss_val')\n",
        "plt.xlabel(\"max_iter\")\n",
        "print(f'Logistic Mejor max_iter={lmax_iter[np.argmin(scores)]} score={np.min(scores)}')"
      ]
    },
    {
      "cell_type": "markdown",
      "metadata": {
        "id": "dBVJBo8GTG3p"
      },
      "source": [
        "Ahora ajustamos el Parámetro C que es similar al parámetro de complejidad de las SVM"
      ]
    },
    {
      "cell_type": "code",
      "execution_count": null,
      "metadata": {
        "id": "Y4NW4humTG3p",
        "outputId": "4324c52a-a8e5-42b2-b12a-ee97dc47d636"
      },
      "outputs": [
        {
          "data": {
            "application/vnd.jupyter.widget-view+json": {
              "model_id": "f0399e43cf1e48a38ce09ecf4aafd009",
              "version_major": 2,
              "version_minor": 0
            },
            "text/plain": [
              "HBox(children=(FloatProgress(value=0.0, max=8.0), HTML(value='')))"
            ]
          },
          "metadata": {},
          "output_type": "display_data"
        },
        {
          "name": "stdout",
          "output_type": "stream",
          "text": [
            "C=0.0625 log_loss_val=0.6430509928212406\n",
            "C=0.125 log_loss_val=0.6404098634455558\n",
            "C=0.25 log_loss_val=0.6392146686087529\n",
            "C=0.5 log_loss_val=0.63873858177\n",
            "C=1.0 log_loss_val=0.638554209840292\n",
            "C=2.0 log_loss_val=0.6385452248171362\n",
            "C=4.0 log_loss_val=0.6385719812867574\n",
            "C=8.0 log_loss_val=0.6386509957125119\n",
            "\n",
            "Logistic Mejor C=2.0 score=0.6385452248171362\n"
          ]
        },
        {
          "data": {
            "image/png": "[encoded data removed]",
            "text/plain": [
              "<Figure size 432x288 with 1 Axes>"
            ]
          },
          "metadata": {},
          "output_type": "display_data"
        }
      ],
      "source": [
        "%%time\n",
        "scores = []\n",
        "lmax_c = np.power(2.0,np.arange(-4,4,1))\n",
        "for c_value in tqdm(lmax_c):\n",
        "    logistic_model = LogisticRegression(C=c_value, max_iter=450, \n",
        "                                        n_jobs=-1,class_weight=None,random_state=42)\n",
        "    log_loss_val = entrena_model_hold_out(logistic_model, calibra=False)\n",
        "    print(f'C={c_value} log_loss_val={log_loss_val}')\n",
        "    scores.append(log_loss_val)\n",
        "    \n",
        "plt.plot(lmax_c,scores,'o-')\n",
        "plt.ylabel('log_loss_val')\n",
        "plt.xlabel(\"lmax_c\")\n",
        "print(f'Logistic Mejor C={lmax_c[np.argmin(scores)]} score={np.min(scores)}')"
      ]
    },
    {
      "cell_type": "markdown",
      "metadata": {
        "id": "ZN7WoCz5TG3q"
      },
      "source": [
        "**El mejor modelo logistico se obtiene con:**\n",
        "\n",
        "- max_iter=450\n",
        "- C=2.0\n",
        "\n",
        "**con log_loss_val=0.6385452248171362**"
      ]
    },
    {
      "cell_type": "markdown",
      "metadata": {
        "id": "jFeshnOATG3q"
      },
      "source": [
        "## Modelo: XGBoost"
      ]
    },
    {
      "cell_type": "markdown",
      "metadata": {
        "id": "1FLOVRj1TG3r"
      },
      "source": [
        "Extreme Gradient Machines (*XGBoost*) es uno de los algoritmos más populares de *Gradient Boosting Machines* "
      ]
    },
    {
      "cell_type": "code",
      "execution_count": null,
      "metadata": {
        "id": "InwBUCKaTG3r"
      },
      "outputs": [],
      "source": [
        "# Parametros que vienen por defecto\n",
        "parametros = {'learning_rate':0.1, 'n_estimators':100, 'max_depth':6,\n",
        "              'subsample':0.80, 'colsample_bytree':0.80,\n",
        "              'reg_alpha':0.0, 'reg_lambda':1.0}"
      ]
    },
    {
      "cell_type": "code",
      "execution_count": null,
      "metadata": {
        "id": "GvcBhXfTTG3s"
      },
      "outputs": [],
      "source": [
        "def busca_param(valores, nombre_var, parametros):\n",
        "    scores = []\n",
        "    for valor in tqdm(valores):\n",
        "        parametros[nombre_var]=valor\n",
        "        xgb_model = XGBClassifier(learning_rate=parametros['learning_rate'],\n",
        "                                  n_estimators=parametros['n_estimators'],\n",
        "                                  max_depth=parametros['max_depth'],\n",
        "#                                   min_child_weight=parametros['min_child_weight'],\n",
        "                                  subsample=parametros['subsample'],\n",
        "                                  colsample_bytree=parametros['colsample_bytree'],\n",
        "                                  reg_alpha=parametros['reg_alpha'], \n",
        "                                  reg_lambda=parametros['reg_lambda'],\n",
        "                                  nthread=20,\n",
        "                                  seed=42, objective='multi:softprob')\n",
        "        log_loss_val = entrena_model_hold_out(xgb_model, calibra=True)\n",
        "        print(f'{nombre_var}={valor} log_loss_val={log_loss_val}')\n",
        "        scores.append(log_loss_val)\n",
        "    plt.plot(valores,scores,'o-')\n",
        "    plt.ylabel('log_loss_val')\n",
        "    plt.xlabel(nombre_var)\n",
        "    print(f'Mejor {nombre_var}={valores[np.argmin(scores)]} Score={np.min(scores)}')\n",
        "    return valores[np.argmin(scores)]"
      ]
    },
    {
      "cell_type": "code",
      "execution_count": null,
      "metadata": {
        "scrolled": true,
        "colab": {
          "referenced_widgets": [
            "26c52b82dd834db8af2814bab3c3e3ed"
          ]
        },
        "id": "UrlLHNfsTG3s",
        "outputId": "f3bf291c-3dbf-4463-db7c-552d38557cd9"
      },
      "outputs": [
        {
          "data": {
            "application/vnd.jupyter.widget-view+json": {
              "model_id": "26c52b82dd834db8af2814bab3c3e3ed",
              "version_major": 2,
              "version_minor": 0
            },
            "text/plain": [
              "HBox(children=(FloatProgress(value=0.0, max=8.0), HTML(value='')))"
            ]
          },
          "metadata": {},
          "output_type": "display_data"
        },
        {
          "name": "stdout",
          "output_type": "stream",
          "text": [
            "n_estimators=300 log_loss_val=0.46736178529866623\n",
            "n_estimators=400 log_loss_val=0.45926067834433654\n",
            "n_estimators=500 log_loss_val=0.4536980114976586\n",
            "n_estimators=600 log_loss_val=0.45209586060964246\n",
            "n_estimators=700 log_loss_val=0.45091114003355104\n",
            "n_estimators=800 log_loss_val=0.4507638376995122\n",
            "n_estimators=900 log_loss_val=0.45255563600555726\n",
            "n_estimators=1000 log_loss_val=0.45249268509066576\n",
            "\n",
            "Mejor n_estimators=800 Score=0.4507638376995122\n",
            "{'learning_rate': 0.1, 'n_estimators': 800, 'max_depth': 6, 'subsample': 0.8, 'colsample_bytree': 0.8, 'reg_alpha': 0.0, 'reg_lambda': 1.0}\n"
          ]
        },
        {
          "data": {
            "image/png": "[encoded data removed]",
            "text/plain": [
              "<Figure size 432x288 with 1 Axes>"
            ]
          },
          "metadata": {},
          "output_type": "display_data"
        }
      ],
      "source": [
        "%%time\n",
        "# Busqueda del numero de arboles\n",
        "parametros['n_estimators'] = busca_param(np.arange(300,1100,100), 'n_estimators', parametros)\n",
        "print(parametros)"
      ]
    },
    {
      "cell_type": "code",
      "execution_count": null,
      "metadata": {
        "colab": {
          "referenced_widgets": [
            "2d2e3172de4046539a43e200f558236b"
          ]
        },
        "id": "0xTK8V8nTG3t",
        "outputId": "56b62e20-3d46-4a83-899d-a8d7140550c0"
      },
      "outputs": [
        {
          "data": {
            "application/vnd.jupyter.widget-view+json": {
              "model_id": "2d2e3172de4046539a43e200f558236b",
              "version_major": 2,
              "version_minor": 0
            },
            "text/plain": [
              "HBox(children=(FloatProgress(value=0.0, max=11.0), HTML(value='')))"
            ]
          },
          "metadata": {},
          "output_type": "display_data"
        },
        {
          "name": "stdout",
          "output_type": "stream",
          "text": [
            "max_depth=2 log_loss_val=0.5323584298971848\n",
            "max_depth=3 log_loss_val=0.49199263580225383\n",
            "max_depth=4 log_loss_val=0.47115790516004863\n",
            "max_depth=5 log_loss_val=0.4577353556461342\n",
            "max_depth=6 log_loss_val=0.4507638376995122\n",
            "max_depth=7 log_loss_val=0.4550300553429426\n",
            "max_depth=8 log_loss_val=0.4505095069917167\n",
            "max_depth=9 log_loss_val=0.4527971217745995\n",
            "max_depth=10 log_loss_val=0.4550837451364092\n",
            "max_depth=11 log_loss_val=0.4567573052688949\n",
            "max_depth=12 log_loss_val=0.4564085862141767\n",
            "\n",
            "Mejor max_depth=8 Score=0.4505095069917167\n",
            "{'learning_rate': 0.1, 'n_estimators': 800, 'max_depth': 8, 'subsample': 0.8, 'colsample_bytree': 0.8, 'reg_alpha': 0.0, 'reg_lambda': 1.0}\n"
          ]
        },
        {
          "data": {
            "image/png": "[encoded data removed]",
            "text/plain": [
              "<Figure size 432x288 with 1 Axes>"
            ]
          },
          "metadata": {},
          "output_type": "display_data"
        }
      ],
      "source": [
        "%%time\n",
        "# Maxima profundidad\n",
        "parametros['max_depth'] = busca_param(np.arange(2,13), 'max_depth', parametros)\n",
        "print(parametros)"
      ]
    },
    {
      "cell_type": "code",
      "execution_count": null,
      "metadata": {
        "id": "tfc6l3xoTG3t"
      },
      "outputs": [],
      "source": [
        "# # Minimos Pesos por particion\n",
        "# parametros['min_child_weight'] = busca_param(np.arange(1,6), 'min_child_weight', parametros)\n",
        "# print(parametros)"
      ]
    },
    {
      "cell_type": "code",
      "execution_count": null,
      "metadata": {
        "colab": {
          "referenced_widgets": [
            "42ce4a46753a4bd5af2324268ffedef7"
          ]
        },
        "id": "6To6IzYrTG3t",
        "outputId": "2a0f3a8c-3547-4470-981b-374bcc4a1e04"
      },
      "outputs": [
        {
          "data": {
            "application/vnd.jupyter.widget-view+json": {
              "model_id": "42ce4a46753a4bd5af2324268ffedef7",
              "version_major": 2,
              "version_minor": 0
            },
            "text/plain": [
              "HBox(children=(FloatProgress(value=0.0, max=6.0), HTML(value='')))"
            ]
          },
          "metadata": {},
          "output_type": "display_data"
        },
        {
          "name": "stdout",
          "output_type": "stream",
          "text": [
            "subsample=0.5 log_loss_val=0.4551344902532299\n",
            "subsample=0.6 log_loss_val=0.45325106123479286\n",
            "subsample=0.7 log_loss_val=0.4533673977116736\n",
            "subsample=0.8 log_loss_val=0.4505095069917167\n",
            "subsample=0.9 log_loss_val=0.4526932200720692\n",
            "subsample=1.0 log_loss_val=0.4555757173214048\n",
            "\n",
            "Mejor subsample=0.8 Score=0.4505095069917167\n",
            "{'learning_rate': 0.1, 'n_estimators': 800, 'max_depth': 8, 'subsample': 0.8, 'colsample_bytree': 0.8, 'reg_alpha': 0.0, 'reg_lambda': 1.0}\n"
          ]
        },
        {
          "data": {
            "image/png": "[encoded data removed]",
            "text/plain": [
              "<Figure size 432x288 with 1 Axes>"
            ]
          },
          "metadata": {},
          "output_type": "display_data"
        }
      ],
      "source": [
        "%%time\n",
        "# Subsample\n",
        "parametros['subsample'] = busca_param(np.arange(5,11)/10.0, 'subsample', parametros)\n",
        "print(parametros)"
      ]
    },
    {
      "cell_type": "code",
      "execution_count": null,
      "metadata": {
        "colab": {
          "referenced_widgets": [
            "b39cfccbc5494c3eab320e910f4b8c22"
          ]
        },
        "id": "0nBqWM7iTG3u",
        "outputId": "1ac8eb58-8b07-4210-c2b8-8aed15f6010f"
      },
      "outputs": [
        {
          "data": {
            "application/vnd.jupyter.widget-view+json": {
              "model_id": "b39cfccbc5494c3eab320e910f4b8c22",
              "version_major": 2,
              "version_minor": 0
            },
            "text/plain": [
              "HBox(children=(FloatProgress(value=0.0, max=10.0), HTML(value='')))"
            ]
          },
          "metadata": {},
          "output_type": "display_data"
        },
        {
          "name": "stdout",
          "output_type": "stream",
          "text": [
            "colsample_bytree=0.1 log_loss_val=0.4732905706034286\n",
            "colsample_bytree=0.2 log_loss_val=0.4571016650054453\n",
            "colsample_bytree=0.3 log_loss_val=0.45353415645348066\n",
            "colsample_bytree=0.4 log_loss_val=0.45148788998485495\n",
            "colsample_bytree=0.5 log_loss_val=0.4547330360844201\n",
            "colsample_bytree=0.6 log_loss_val=0.44995794392902055\n",
            "colsample_bytree=0.7 log_loss_val=0.45199918147748414\n",
            "colsample_bytree=0.8 log_loss_val=0.4505095069917167\n",
            "colsample_bytree=0.9 log_loss_val=0.4536114309956032\n",
            "colsample_bytree=1.0 log_loss_val=0.4565975889517779\n",
            "\n",
            "Mejor colsample_bytree=0.6 Score=0.44995794392902055\n",
            "{'learning_rate': 0.1, 'n_estimators': 800, 'max_depth': 8, 'subsample': 0.8, 'colsample_bytree': 0.6, 'reg_alpha': 0.0, 'reg_lambda': 1.0}\n"
          ]
        },
        {
          "data": {
            "image/png": "[encoded data removed]",
            "text/plain": [
              "<Figure size 432x288 with 1 Axes>"
            ]
          },
          "metadata": {},
          "output_type": "display_data"
        }
      ],
      "source": [
        "%%time\n",
        "# Colsample_bytree\n",
        "parametros['colsample_bytree'] = busca_param(np.arange(1,11)/10.0, 'colsample_bytree', parametros)\n",
        "print(parametros)"
      ]
    },
    {
      "cell_type": "code",
      "execution_count": null,
      "metadata": {
        "colab": {
          "referenced_widgets": [
            "43bbc82b97ea43b593501d7adf4ddf7f"
          ]
        },
        "id": "YtxEfkIiTG3u",
        "outputId": "c54736d7-d64a-46b8-c753-140e2d2509a7"
      },
      "outputs": [
        {
          "data": {
            "application/vnd.jupyter.widget-view+json": {
              "model_id": "43bbc82b97ea43b593501d7adf4ddf7f",
              "version_major": 2,
              "version_minor": 0
            },
            "text/plain": [
              "HBox(children=(FloatProgress(value=0.0, max=8.0), HTML(value='')))"
            ]
          },
          "metadata": {},
          "output_type": "display_data"
        },
        {
          "name": "stdout",
          "output_type": "stream",
          "text": [
            "reg_alpha=0.0 log_loss_val=0.44995794392902055\n",
            "reg_alpha=0.0001 log_loss_val=0.4493313911857783\n",
            "reg_alpha=0.001 log_loss_val=0.44870034989651664\n",
            "reg_alpha=0.01 log_loss_val=0.45145810496523026\n",
            "reg_alpha=0.1 log_loss_val=0.45255335141241976\n",
            "reg_alpha=1.0 log_loss_val=0.4537183277611617\n",
            "reg_alpha=5 log_loss_val=0.4560511022253273\n",
            "reg_alpha=10 log_loss_val=0.47011653821353017\n",
            "\n",
            "Mejor reg_alpha=0.001 Score=0.44870034989651664\n",
            "{'learning_rate': 0.1, 'n_estimators': 800, 'max_depth': 8, 'subsample': 0.8, 'colsample_bytree': 0.6, 'reg_alpha': 0.001, 'reg_lambda': 1.0}\n"
          ]
        },
        {
          "data": {
            "image/png": "[encoded data removed]",
            "text/plain": [
              "<Figure size 432x288 with 1 Axes>"
            ]
          },
          "metadata": {},
          "output_type": "display_data"
        }
      ],
      "source": [
        "%%time\n",
        "# Probamos con Regularización L1\n",
        "parametros['reg_alpha'] = busca_param([0.0, 0.0001, 0.001, 0.01, 0.1, 1.0, 5, 10], 'reg_alpha', parametros)\n",
        "print(parametros)"
      ]
    },
    {
      "cell_type": "code",
      "execution_count": null,
      "metadata": {
        "colab": {
          "referenced_widgets": [
            "e90fe139b7594e0b847130436808da5e"
          ]
        },
        "id": "HrZQZLuzTG3v",
        "outputId": "cbd74b91-fe63-4804-8f88-d5c461e5c0f2"
      },
      "outputs": [
        {
          "data": {
            "application/vnd.jupyter.widget-view+json": {
              "model_id": "e90fe139b7594e0b847130436808da5e",
              "version_major": 2,
              "version_minor": 0
            },
            "text/plain": [
              "HBox(children=(FloatProgress(value=0.0, max=8.0), HTML(value='')))"
            ]
          },
          "metadata": {},
          "output_type": "display_data"
        },
        {
          "name": "stdout",
          "output_type": "stream",
          "text": [
            "reg_lambda=0.0 log_loss_val=0.45055427640048595\n",
            "reg_lambda=0.0001 log_loss_val=0.45076640112934196\n",
            "reg_lambda=0.001 log_loss_val=0.45021311011560045\n",
            "reg_lambda=0.01 log_loss_val=0.4506474823400529\n",
            "reg_lambda=0.1 log_loss_val=0.44995383668184963\n",
            "reg_lambda=1.0 log_loss_val=0.44870034989651664\n",
            "reg_lambda=5 log_loss_val=0.45082358768638486\n",
            "reg_lambda=10 log_loss_val=0.45149529570777125\n",
            "\n",
            "Mejor reg_lambda=1.0 Score=0.44870034989651664\n",
            "{'learning_rate': 0.1, 'n_estimators': 800, 'max_depth': 8, 'subsample': 0.8, 'colsample_bytree': 0.6, 'reg_alpha': 0.001, 'reg_lambda': 1.0}\n"
          ]
        },
        {
          "data": {
            "image/png": "[encoded data removed]",
            "text/plain": [
              "<Figure size 432x288 with 1 Axes>"
            ]
          },
          "metadata": {},
          "output_type": "display_data"
        }
      ],
      "source": [
        "%%time\n",
        "# Probamos con Regularización L2\n",
        "parametros['reg_lambda'] = busca_param([0.0, 0.0001, 0.001, 0.01, 0.1, 1.0, 5, 10], 'reg_lambda', parametros)\n",
        "print(parametros)"
      ]
    },
    {
      "cell_type": "code",
      "execution_count": null,
      "metadata": {
        "colab": {
          "referenced_widgets": [
            "007822dc309d4a40a7b3a1a15ee547ab"
          ]
        },
        "id": "h1TwSZuTTG3v",
        "outputId": "5cd3a990-2467-4c1d-ee3b-e043b8e7b358"
      },
      "outputs": [
        {
          "data": {
            "application/vnd.jupyter.widget-view+json": {
              "model_id": "007822dc309d4a40a7b3a1a15ee547ab",
              "version_major": 2,
              "version_minor": 0
            },
            "text/plain": [
              "HBox(children=(FloatProgress(value=0.0, max=9.0), HTML(value='')))"
            ]
          },
          "metadata": {},
          "output_type": "display_data"
        },
        {
          "name": "stdout",
          "output_type": "stream",
          "text": [
            "learning_rate=0.001 log_loss_val=0.5915441456807554\n",
            "learning_rate=0.005 log_loss_val=0.5386951453043503\n",
            "learning_rate=0.01 log_loss_val=0.4998207269911845\n",
            "learning_rate=0.05 log_loss_val=0.4489437128075007\n",
            "learning_rate=0.1 log_loss_val=0.44870034989651664\n",
            "learning_rate=0.15 log_loss_val=0.4522763014563908\n",
            "learning_rate=0.2 log_loss_val=0.45746889298573384\n",
            "learning_rate=0.25 log_loss_val=0.4615933382198224\n",
            "learning_rate=0.3 log_loss_val=0.4672680293476639\n",
            "\n",
            "Mejor learning_rate=0.1 Score=0.44870034989651664\n",
            "{'learning_rate': 0.1, 'n_estimators': 800, 'max_depth': 8, 'subsample': 0.8, 'colsample_bytree': 0.6, 'reg_alpha': 0.001, 'reg_lambda': 1.0}\n"
          ]
        },
        {
          "data": {
            "image/png": "[encoded data removed]",
            "text/plain": [
              "<Figure size 432x288 with 1 Axes>"
            ]
          },
          "metadata": {},
          "output_type": "display_data"
        }
      ],
      "source": [
        "%%time\n",
        "# Learning rate\n",
        "parametros['learning_rate'] = busca_param([0.001, 0.005, 0.01, 0.05, 0.1, 0.15, 0.2, 0.25, 0.3], 'learning_rate', parametros)\n",
        "print(parametros)"
      ]
    },
    {
      "cell_type": "code",
      "execution_count": null,
      "metadata": {
        "colab": {
          "referenced_widgets": [
            "1ec8147c9065437496737ce82f9b96d9"
          ]
        },
        "id": "IdrPc-N1TG3w",
        "outputId": "8d0c1dc5-19dd-4f3a-d28a-980be9826e23"
      },
      "outputs": [
        {
          "data": {
            "application/vnd.jupyter.widget-view+json": {
              "model_id": "1ec8147c9065437496737ce82f9b96d9",
              "version_major": 2,
              "version_minor": 0
            },
            "text/plain": [
              "HBox(children=(FloatProgress(value=0.0, max=12.0), HTML(value='')))"
            ]
          },
          "metadata": {},
          "output_type": "display_data"
        },
        {
          "name": "stdout",
          "output_type": "stream",
          "text": [
            "n_estimators=650 log_loss_val=0.44793749417581175\n",
            "n_estimators=675 log_loss_val=0.4499451487445979\n",
            "n_estimators=700 log_loss_val=0.45026205268982383\n",
            "n_estimators=725 log_loss_val=0.45039045940757955\n",
            "n_estimators=750 log_loss_val=0.4483690096247282\n",
            "n_estimators=775 log_loss_val=0.4485648129319966\n",
            "n_estimators=800 log_loss_val=0.44870034989651664\n",
            "n_estimators=825 log_loss_val=0.44900210664792517\n",
            "n_estimators=850 log_loss_val=0.44918294153707755\n",
            "n_estimators=875 log_loss_val=0.449669351113557\n",
            "n_estimators=900 log_loss_val=0.4498913652612586\n",
            "n_estimators=925 log_loss_val=0.4502654881024376\n",
            "\n",
            "Mejor n_estimators=650 Score=0.44793749417581175\n",
            "{'learning_rate': 0.1, 'n_estimators': 650, 'max_depth': 8, 'subsample': 0.8, 'colsample_bytree': 0.6, 'reg_alpha': 0.001, 'reg_lambda': 1.0}\n"
          ]
        },
        {
          "data": {
            "image/png": "[encoded data removed]",
            "text/plain": [
              "<Figure size 432x288 with 1 Axes>"
            ]
          },
          "metadata": {},
          "output_type": "display_data"
        }
      ],
      "source": [
        "%%time\n",
        "# Busqueda fina del numero de arboles a partir del mejor\n",
        "parametros['n_estimators'] = busca_param(np.arange(parametros['n_estimators']-150,parametros['n_estimators']+150,25),\n",
        "                                         'n_estimators', parametros)\n",
        "print(parametros)"
      ]
    },
    {
      "cell_type": "markdown",
      "metadata": {
        "id": "zRachKpTTG3w"
      },
      "source": [
        "**El mejor modelo XGBoost se obtiene con:**\n",
        "\n",
        "- 'learning_rate': 0.1\n",
        "- 'n_estimators': 650\n",
        "- 'max_depth': 8\n",
        "- 'subsample': 0.8\n",
        "- 'colsample_bytree': 0.6\n",
        "- 'reg_alpha': 0.001\n",
        "- 'reg_lambda': 1.0\n",
        "\n",
        "**con log_loss_val=0.44793749417581175**"
      ]
    },
    {
      "cell_type": "markdown",
      "metadata": {
        "id": "ZRw5FkyoTG3x"
      },
      "source": [
        "## ¿Somos capaces de mejorar estos resultados con Optimización Bayesiana?"
      ]
    },
    {
      "cell_type": "markdown",
      "metadata": {
        "id": "UtQmeUSeTG3x"
      },
      "source": [
        "Los modelos *Ensemble*, disponen habitualmente de múltiples parámetros que suelen ser difíciles de ajustar. Este problema es conocido como *Optimización de Hyperparámetros* o *Hyperparameter Optimization (HO)*.\n",
        "\n",
        "Cuando el proceso de entrenamiento de los modelos es costoso computacionalmente, es conveniente utilizar estrategias de HO más avanzadas que las clásicas *GridSeach* o *RandomSearch*. \n",
        "\n",
        "Uno de los métodos más usados habitualmente para HO, usado por muchas herramientas de *Machine Learning Optimization* (AutoML, AutoKeras, etc.), es la *[Optimización Bayesiana (OB)](https://github.com/fmfn/BayesianOptimization/)*. \n",
        "\n",
        "**La OB debe ser utilizada con cuidado pues no es un método milagroso y puede darnos peores resultados que la búsqueda manual o clásica. Es muy importante seleccionar parámetros del modelo que QUE ESTÉN RELACIONADOS ENTRE SI LO MENOS POSIBLE.**\n",
        "\n",
        "Por ejemplo, si elegimos ajustar los tres parámetros de un RF que tienen que ver con limitaciones en el crecimiento de los árboles:\n",
        "- 'max_depth': Máxima profundidad de cada  arbol\n",
        "- 'min_samples_split': Mínimo número de ejemplos para generar una división\n",
        "- 'min_samples_leaf': Mínimo número de elementos que puede tener una hoja\n",
        "es probable que el proceso de optimización no sea eficiente. Lo mismo lo podemos aplicar a otros modelos basados en combinación de árboles como *XGBoost*, *LightGBM* o *Catboost*\n",
        "            \n",
        "\n",
        "\"Este proceso combina 4 pasos ([ref](https://www.buguroo.com/es/blog/optimizacion-de-hiperparametros)):\n",
        "- Elegir alguna medida previa en el espacio de posibles funciones de métodos de evaluación. Como se desconoce nuestra función objetiva (métrica de evaluación sobre la función de configuraciones), este paso supone tratarla como una función aleatoria con una distribución previa seleccionada. Esto captura nuestras creencias sobre el comportamiento de la función (ej., a menudo se utiliza una distribución gaussiana multivariable).\n",
        "- Combinar la distribución previa con algunas observaciones dadas (configuraciones probadas) para obtener una distribución posterior en el objetivo (estimación de dónde reside la verdadera función).\n",
        "- Usar la distribución posterior para decidir dónde probar la siguiente configuración según alguna función de adquisición. Una función de adquisición es una herramienta que nos dice la configuración a probar en que se conseguirá la mayor cantidad de información.\n",
        "- Evaluar la configuración seleccionada en el paso 3.\n",
        "\n",
        "Después de haber probado algunas configuraciones iniciales (al menos 2) y haber concluido por primera vez todos los pasos, iterar entre 2 y 4 hasta que se activa el mecanismo de terminación y se cierra la optimización bayesiana.*\n",
        "\n",
        "\n",
        "\n",
        "![](https://github.com/fmfn/BayesianOptimization/raw/master/examples/bo_example.png)"
      ]
    },
    {
      "cell_type": "code",
      "execution_count": null,
      "metadata": {
        "id": "Q4HMnrlyTG3x",
        "outputId": "5e744d6b-9c53-48ad-f2bf-c2dbac3f8e6b"
      },
      "outputs": [
        {
          "name": "stdout",
          "output_type": "stream",
          "text": [
            "|   iter    |  target   | colsam... | max_depth | pow_alpha | pow_la... | subsample |\n",
            "-------------------------------------------------------------------------------------\n",
            "| \u001b[0m 1       \u001b[0m | \u001b[0m-0.4631  \u001b[0m | \u001b[0m 0.9876  \u001b[0m | \u001b[0m 13.35   \u001b[0m | \u001b[0m-0.4318  \u001b[0m | \u001b[0m-2.097   \u001b[0m | \u001b[0m 0.4032  \u001b[0m |\n",
            "| \u001b[0m 2       \u001b[0m | \u001b[0m-0.5215  \u001b[0m | \u001b[0m 0.2953  \u001b[0m | \u001b[0m 5.594   \u001b[0m | \u001b[0m-1.597   \u001b[0m | \u001b[0m 2.035   \u001b[0m | \u001b[0m 0.241   \u001b[0m |\n",
            "| \u001b[0m 3       \u001b[0m | \u001b[0m-0.5188  \u001b[0m | \u001b[0m 0.2268  \u001b[0m | \u001b[0m 11.84   \u001b[0m | \u001b[0m 1.154   \u001b[0m | \u001b[0m-1.51    \u001b[0m | \u001b[0m 0.407   \u001b[0m |\n",
            "| \u001b[0m 4       \u001b[0m | \u001b[0m-0.4702  \u001b[0m | \u001b[0m 0.7001  \u001b[0m | \u001b[0m 4.822   \u001b[0m | \u001b[0m-0.07001 \u001b[0m | \u001b[0m-3.131   \u001b[0m | \u001b[0m 0.3878  \u001b[0m |\n",
            "| \u001b[0m 5       \u001b[0m | \u001b[0m-0.5722  \u001b[0m | \u001b[0m 0.9579  \u001b[0m | \u001b[0m 3.786   \u001b[0m | \u001b[0m-0.01411 \u001b[0m | \u001b[0m 2.83    \u001b[0m | \u001b[0m 0.553   \u001b[0m |\n",
            "| \u001b[0m 6       \u001b[0m | \u001b[0m-0.5302  \u001b[0m | \u001b[0m 0.7009  \u001b[0m | \u001b[0m 2.444   \u001b[0m | \u001b[0m-0.8072  \u001b[0m | \u001b[0m-2.909   \u001b[0m | \u001b[0m 0.5284  \u001b[0m |\n",
            "| \u001b[0m 7       \u001b[0m | \u001b[0m-0.4894  \u001b[0m | \u001b[0m 0.1     \u001b[0m | \u001b[0m 15.0    \u001b[0m | \u001b[0m-4.0     \u001b[0m | \u001b[0m-4.0     \u001b[0m | \u001b[0m 1.0     \u001b[0m |\n",
            "| \u001b[0m 8       \u001b[0m | \u001b[0m-0.5813  \u001b[0m | \u001b[0m 1.0     \u001b[0m | \u001b[0m 15.0    \u001b[0m | \u001b[0m-4.0     \u001b[0m | \u001b[0m 3.0     \u001b[0m | \u001b[0m 0.1     \u001b[0m |\n",
            "| \u001b[0m 9       \u001b[0m | \u001b[0m-0.4768  \u001b[0m | \u001b[0m 1.0     \u001b[0m | \u001b[0m 8.314   \u001b[0m | \u001b[0m-4.0     \u001b[0m | \u001b[0m-4.0     \u001b[0m | \u001b[0m 0.1     \u001b[0m |\n",
            "| \u001b[0m 10      \u001b[0m | \u001b[0m-1.95    \u001b[0m | \u001b[0m 1.0     \u001b[0m | \u001b[0m 15.0    \u001b[0m | \u001b[0m 3.0     \u001b[0m | \u001b[0m-4.0     \u001b[0m | \u001b[0m 0.1     \u001b[0m |\n",
            "| \u001b[0m 11      \u001b[0m | \u001b[0m-0.8559  \u001b[0m | \u001b[0m 1.0     \u001b[0m | \u001b[0m 9.692   \u001b[0m | \u001b[0m 3.0     \u001b[0m | \u001b[0m 3.0     \u001b[0m | \u001b[0m 1.0     \u001b[0m |\n",
            "| \u001b[0m 12      \u001b[0m | \u001b[0m-0.4778  \u001b[0m | \u001b[0m 0.1     \u001b[0m | \u001b[0m 11.18   \u001b[0m | \u001b[0m-4.0     \u001b[0m | \u001b[0m-0.07262 \u001b[0m | \u001b[0m 1.0     \u001b[0m |\n",
            "| \u001b[0m 13      \u001b[0m | \u001b[0m-0.6338  \u001b[0m | \u001b[0m 0.1     \u001b[0m | \u001b[0m 2.0     \u001b[0m | \u001b[0m-4.0     \u001b[0m | \u001b[0m 3.0     \u001b[0m | \u001b[0m 1.0     \u001b[0m |\n",
            "| \u001b[0m 14      \u001b[0m | \u001b[0m-1.95    \u001b[0m | \u001b[0m 0.1     \u001b[0m | \u001b[0m 2.0     \u001b[0m | \u001b[0m 3.0     \u001b[0m | \u001b[0m-4.0     \u001b[0m | \u001b[0m 0.1     \u001b[0m |\n",
            "| \u001b[0m 15      \u001b[0m | \u001b[0m-0.5449  \u001b[0m | \u001b[0m 1.0     \u001b[0m | \u001b[0m 2.0     \u001b[0m | \u001b[0m-4.0     \u001b[0m | \u001b[0m-4.0     \u001b[0m | \u001b[0m 1.0     \u001b[0m |\n",
            "| \u001b[0m 16      \u001b[0m | \u001b[0m-0.5902  \u001b[0m | \u001b[0m 0.1     \u001b[0m | \u001b[0m 15.0    \u001b[0m | \u001b[0m 0.9638  \u001b[0m | \u001b[0m 3.0     \u001b[0m | \u001b[0m 1.0     \u001b[0m |\n",
            "| \u001b[95m 17      \u001b[0m | \u001b[95m-0.4593  \u001b[0m | \u001b[95m 1.0     \u001b[0m | \u001b[95m 8.583   \u001b[0m | \u001b[95m-0.9869  \u001b[0m | \u001b[95m-1.35    \u001b[0m | \u001b[95m 1.0     \u001b[0m |\n",
            "| \u001b[0m 18      \u001b[0m | \u001b[0m-0.486   \u001b[0m | \u001b[0m 1.0     \u001b[0m | \u001b[0m 4.057   \u001b[0m | \u001b[0m-4.0     \u001b[0m | \u001b[0m-1.028   \u001b[0m | \u001b[0m 0.1     \u001b[0m |\n",
            "| \u001b[0m 19      \u001b[0m | \u001b[0m-0.7048  \u001b[0m | \u001b[0m 0.1     \u001b[0m | \u001b[0m 11.55   \u001b[0m | \u001b[0m-1.151   \u001b[0m | \u001b[0m 3.0     \u001b[0m | \u001b[0m 0.1     \u001b[0m |\n",
            "| \u001b[0m 20      \u001b[0m | \u001b[0m-0.5026  \u001b[0m | \u001b[0m 0.1     \u001b[0m | \u001b[0m 15.0    \u001b[0m | \u001b[0m-4.0     \u001b[0m | \u001b[0m-0.6989  \u001b[0m | \u001b[0m 0.1     \u001b[0m |\n",
            "| \u001b[0m 21      \u001b[0m | \u001b[0m-0.4781  \u001b[0m | \u001b[0m 0.1     \u001b[0m | \u001b[0m 10.95   \u001b[0m | \u001b[0m-1.792   \u001b[0m | \u001b[0m-4.0     \u001b[0m | \u001b[0m 1.0     \u001b[0m |\n",
            "| \u001b[0m 22      \u001b[0m | \u001b[0m-0.4899  \u001b[0m | \u001b[0m 0.1     \u001b[0m | \u001b[0m 5.247   \u001b[0m | \u001b[0m-2.942   \u001b[0m | \u001b[0m-4.0     \u001b[0m | \u001b[0m 1.0     \u001b[0m |\n",
            "| \u001b[0m 23      \u001b[0m | \u001b[0m-0.4781  \u001b[0m | \u001b[0m 1.0     \u001b[0m | \u001b[0m 12.46   \u001b[0m | \u001b[0m-4.0     \u001b[0m | \u001b[0m-3.116   \u001b[0m | \u001b[0m 0.1     \u001b[0m |\n",
            "| \u001b[0m 24      \u001b[0m | \u001b[0m-0.5593  \u001b[0m | \u001b[0m 0.1     \u001b[0m | \u001b[0m 2.0     \u001b[0m | \u001b[0m-1.716   \u001b[0m | \u001b[0m 0.1927  \u001b[0m | \u001b[0m 0.1     \u001b[0m |\n",
            "| \u001b[0m 25      \u001b[0m | \u001b[0m-0.463   \u001b[0m | \u001b[0m 1.0     \u001b[0m | \u001b[0m 13.89   \u001b[0m | \u001b[0m-1.604   \u001b[0m | \u001b[0m 0.3968  \u001b[0m | \u001b[0m 1.0     \u001b[0m |\n",
            "| \u001b[0m 26      \u001b[0m | \u001b[0m-0.481   \u001b[0m | \u001b[0m 1.0     \u001b[0m | \u001b[0m 4.281   \u001b[0m | \u001b[0m-1.254   \u001b[0m | \u001b[0m-0.8259  \u001b[0m | \u001b[0m 1.0     \u001b[0m |\n",
            "=====================================================================================\n",
            "MEJOR XGB= {'target': -0.4593201453567985, 'params': {'colsample_bytree': 1.0, 'max_depth': 8.583064179474016, 'pow_alpha': -0.9869383561735856, 'pow_lambda': -1.3501017363487144, 'subsample': 1.0}}\n"
          ]
        }
      ],
      "source": [
        "%%time\n",
        "# Vamos a buscar el mejor modelo con Bayesian Optimization\n",
        "# Devolvemos el negativo de log_loss_val pues BO busca maximizar la metrica\n",
        "from bayes_opt import BayesianOptimization\n",
        "\n",
        "def bo_eval(max_depth, subsample, colsample_bytree, pow_alpha, pow_lambda):\n",
        "    xgb_model = XGBClassifier(learning_rate=0.1,  #Fijamos el learning rate\n",
        "                              n_estimators=800, #Fijamos el numero de arboles\n",
        "                              max_depth=int(max_depth),\n",
        "                              subsample=subsample,\n",
        "                              colsample_bytree=colsample_bytree,\n",
        "                              reg_alpha = 10.0**pow_alpha,\n",
        "                              reg_lambda = 10.0**pow_lambda,\n",
        "                              nthread=20,\n",
        "                              seed=42, objective='multi:softprob')\n",
        "    log_loss_val = entrena_model_hold_out(xgb_model, calibra=True)\n",
        "    return -log_loss_val\n",
        "\n",
        "# Buscamos mejor XGB\n",
        "range_bo = {'max_depth': (2, 15),  #Máxima profundidad de cada  arbol\n",
        "            'subsample': (0.1, 1.0), #Subsample\n",
        "            'colsample_bytree': (0.1, 1.0), #Colsample\n",
        "            'pow_alpha': (-4,3), # alpha=10**pow_alpha\n",
        "            'pow_lambda': (-4,3), # lambda=10**pow_lambda\n",
        "            }\n",
        "\n",
        "BO_XGB = BayesianOptimization(bo_eval, range_bo, random_state=2020)\n",
        "BO_XGB.maximize(init_points=6, n_iter=20)    \n",
        "print('MEJOR XGB=',BO_XGB.max)"
      ]
    },
    {
      "cell_type": "markdown",
      "metadata": {
        "id": "GO5Ssn2zTG3y"
      },
      "source": [
        "Como se puede observar, aunque se llega a una solución aceptable, **BO no mejora a los resultados obtenidos con el proceso de busqueda planteado previamente**. Podrian eliminarse algunos parametros como *colsample_bytree* o *subsample* pues es posible que afecten al proceso de optimización, pero deberian luego ajustarse manualmente y el numero de iteraciones total sera parecido a la propuesta inicial de busqueda parametro a parametro."
      ]
    },
    {
      "cell_type": "markdown",
      "metadata": {
        "id": "i_tw3gAITG3y"
      },
      "source": [
        "## Enviamos la Submission de los Modelos"
      ]
    },
    {
      "cell_type": "markdown",
      "metadata": {
        "id": "OTyJzwAUTG3y"
      },
      "source": [
        "### Modelo RF Submission"
      ]
    },
    {
      "cell_type": "markdown",
      "metadata": {
        "id": "FuMmaufBTG3z"
      },
      "source": [
        "**La configuración final fue:**\n",
        "- n_estimators=600\n",
        "- min_samples_split=2\n",
        "- max_features=9\n",
        "\n",
        "**con un Local log_loss=0.4818038439198601**"
      ]
    },
    {
      "cell_type": "code",
      "execution_count": null,
      "metadata": {
        "id": "g8OGqEQSTG3z",
        "outputId": "80ba008d-4058-4898-ab29-35a130b4de41"
      },
      "outputs": [
        {
          "name": "stdout",
          "output_type": "stream",
          "text": [
            "Mejor RF local log_loss_val=0.4818038439198601\n"
          ]
        }
      ],
      "source": [
        "%%time\n",
        "rf_model = RandomForestClassifier(n_estimators=600,\n",
        "                                  max_features=9,\n",
        "                                  min_samples_split=2,\n",
        "                                  n_jobs=-1,class_weight='balanced')\n",
        "log_loss_val = entrena_model_hold_out(rf_model, calibra=True)\n",
        "print(f'Mejor RF local log_loss_val={log_loss_val}')"
      ]
    },
    {
      "cell_type": "code",
      "execution_count": null,
      "metadata": {
        "id": "o9w_zd6TTG30",
        "outputId": "51c61683-95ee-42ed-a13f-e6b69ebf0d7e"
      },
      "outputs": [
        {
          "data": {
            "text/html": [
              "<div>\n",
              "<style scoped>\n",
              "    .dataframe tbody tr th:only-of-type {\n",
              "        vertical-align: middle;\n",
              "    }\n",
              "\n",
              "    .dataframe tbody tr th {\n",
              "        vertical-align: top;\n",
              "    }\n",
              "\n",
              "    .dataframe thead th {\n",
              "        text-align: right;\n",
              "    }\n",
              "</style>\n",
              "<table border=\"1\" class=\"dataframe\">\n",
              "  <thead>\n",
              "    <tr style=\"text-align: right;\">\n",
              "      <th></th>\n",
              "      <th>id</th>\n",
              "      <th>Class_1</th>\n",
              "      <th>Class_2</th>\n",
              "      <th>Class_3</th>\n",
              "      <th>Class_4</th>\n",
              "      <th>Class_5</th>\n",
              "      <th>Class_6</th>\n",
              "      <th>Class_7</th>\n",
              "      <th>Class_8</th>\n",
              "      <th>Class_9</th>\n",
              "    </tr>\n",
              "  </thead>\n",
              "  <tbody>\n",
              "    <tr>\n",
              "      <th>0</th>\n",
              "      <td>1</td>\n",
              "      <td>0.000229</td>\n",
              "      <td>0.127171</td>\n",
              "      <td>0.192283</td>\n",
              "      <td>0.668507</td>\n",
              "      <td>0.000082</td>\n",
              "      <td>0.001615</td>\n",
              "      <td>0.009459</td>\n",
              "      <td>0.000524</td>\n",
              "      <td>0.000130</td>\n",
              "    </tr>\n",
              "    <tr>\n",
              "      <th>1</th>\n",
              "      <td>2</td>\n",
              "      <td>0.004584</td>\n",
              "      <td>0.001983</td>\n",
              "      <td>0.001066</td>\n",
              "      <td>0.001300</td>\n",
              "      <td>0.000462</td>\n",
              "      <td>0.704477</td>\n",
              "      <td>0.002653</td>\n",
              "      <td>0.280276</td>\n",
              "      <td>0.003199</td>\n",
              "    </tr>\n",
              "    <tr>\n",
              "      <th>2</th>\n",
              "      <td>3</td>\n",
              "      <td>0.000142</td>\n",
              "      <td>0.000000</td>\n",
              "      <td>0.000000</td>\n",
              "      <td>0.000312</td>\n",
              "      <td>0.000000</td>\n",
              "      <td>0.998187</td>\n",
              "      <td>0.000177</td>\n",
              "      <td>0.001183</td>\n",
              "      <td>0.000000</td>\n",
              "    </tr>\n",
              "    <tr>\n",
              "      <th>3</th>\n",
              "      <td>4</td>\n",
              "      <td>0.000298</td>\n",
              "      <td>0.595608</td>\n",
              "      <td>0.364085</td>\n",
              "      <td>0.026133</td>\n",
              "      <td>0.000000</td>\n",
              "      <td>0.000000</td>\n",
              "      <td>0.000469</td>\n",
              "      <td>0.000643</td>\n",
              "      <td>0.012765</td>\n",
              "    </tr>\n",
              "    <tr>\n",
              "      <th>4</th>\n",
              "      <td>5</td>\n",
              "      <td>0.099618</td>\n",
              "      <td>0.000000</td>\n",
              "      <td>0.000000</td>\n",
              "      <td>0.000291</td>\n",
              "      <td>0.000045</td>\n",
              "      <td>0.003824</td>\n",
              "      <td>0.002219</td>\n",
              "      <td>0.226798</td>\n",
              "      <td>0.667205</td>\n",
              "    </tr>\n",
              "  </tbody>\n",
              "</table>\n",
              "</div>"
            ],
            "text/plain": [
              "   id   Class_1   Class_2   Class_3   Class_4   Class_5   Class_6   Class_7  \\\n",
              "0   1  0.000229  0.127171  0.192283  0.668507  0.000082  0.001615  0.009459   \n",
              "1   2  0.004584  0.001983  0.001066  0.001300  0.000462  0.704477  0.002653   \n",
              "2   3  0.000142  0.000000  0.000000  0.000312  0.000000  0.998187  0.000177   \n",
              "3   4  0.000298  0.595608  0.364085  0.026133  0.000000  0.000000  0.000469   \n",
              "4   5  0.099618  0.000000  0.000000  0.000291  0.000045  0.003824  0.002219   \n",
              "\n",
              "    Class_8   Class_9  \n",
              "0  0.000524  0.000130  \n",
              "1  0.280276  0.003199  \n",
              "2  0.001183  0.000000  \n",
              "3  0.000643  0.012765  \n",
              "4  0.226798  0.667205  "
            ]
          },
          "execution_count": 107,
          "metadata": {},
          "output_type": "execute_result"
        }
      ],
      "source": [
        "%%time\n",
        "# Creamos submission con toda la base de datos de entrenamiento\n",
        "calibrated_clf = CalibratedClassifierCV(rf_model, method='isotonic', cv=5)\n",
        "calibrated_clf.fit(X, y)\n",
        "test_preds = calibrated_clf.predict_proba(X_test_scaled)\n",
        "\n",
        "output = pd.DataFrame(test_preds,columns=[\"Class_\"+str(i) for i in range(1,10)])\n",
        "output.insert(loc=0, column='id', value=df_test.id)\n",
        "output.to_csv('submission_rf.csv', index=False)\n",
        "pd.read_csv('submission_rf.csv').head()"
      ]
    },
    {
      "cell_type": "markdown",
      "metadata": {
        "id": "rDCsBnVjTG30"
      },
      "source": [
        "Este modelo RF obtiene un **Local=0.48180, Private_LB=0.47250, Public_LB=0.46824**"
      ]
    },
    {
      "cell_type": "markdown",
      "metadata": {
        "id": "SDKI9oWrTG30"
      },
      "source": [
        "### Modelo Logistic Submission"
      ]
    },
    {
      "cell_type": "markdown",
      "metadata": {
        "id": "evx2YGkkTG31"
      },
      "source": [
        "**El mejor modelo logistico se obtuvo con:**\n",
        "\n",
        "- max_iter=450\n",
        "- C=2.0\n",
        "\n",
        "**con un local log_loss_val=0.6385452248171362**"
      ]
    },
    {
      "cell_type": "code",
      "execution_count": null,
      "metadata": {
        "id": "r9gL0ziyTG31",
        "outputId": "b46023bd-ebca-4f0b-dc87-648b03813e0c"
      },
      "outputs": [
        {
          "name": "stdout",
          "output_type": "stream",
          "text": [
            "Mejor modelo Logistico con local log_loss_val=0.6385452248171362\n"
          ]
        }
      ],
      "source": [
        "%%time\n",
        "logistic_model = LogisticRegression(C=2.0, max_iter=450, n_jobs=-1,class_weight=None,random_state=42)\n",
        "log_loss_val = entrena_model_hold_out(logistic_model, calibra=False)\n",
        "print(f'Mejor modelo Logistico con local log_loss_val={log_loss_val}')    "
      ]
    },
    {
      "cell_type": "code",
      "execution_count": null,
      "metadata": {
        "id": "_krqDJ_HTG32",
        "outputId": "b4797136-ab3a-4adb-eb7d-58bd0d372498"
      },
      "outputs": [
        {
          "data": {
            "text/html": [
              "<div>\n",
              "<style scoped>\n",
              "    .dataframe tbody tr th:only-of-type {\n",
              "        vertical-align: middle;\n",
              "    }\n",
              "\n",
              "    .dataframe tbody tr th {\n",
              "        vertical-align: top;\n",
              "    }\n",
              "\n",
              "    .dataframe thead th {\n",
              "        text-align: right;\n",
              "    }\n",
              "</style>\n",
              "<table border=\"1\" class=\"dataframe\">\n",
              "  <thead>\n",
              "    <tr style=\"text-align: right;\">\n",
              "      <th></th>\n",
              "      <th>id</th>\n",
              "      <th>Class_1</th>\n",
              "      <th>Class_2</th>\n",
              "      <th>Class_3</th>\n",
              "      <th>Class_4</th>\n",
              "      <th>Class_5</th>\n",
              "      <th>Class_6</th>\n",
              "      <th>Class_7</th>\n",
              "      <th>Class_8</th>\n",
              "      <th>Class_9</th>\n",
              "    </tr>\n",
              "  </thead>\n",
              "  <tbody>\n",
              "    <tr>\n",
              "      <th>0</th>\n",
              "      <td>1</td>\n",
              "      <td>9.618544e-06</td>\n",
              "      <td>1.585929e-01</td>\n",
              "      <td>2.511289e-01</td>\n",
              "      <td>5.858155e-01</td>\n",
              "      <td>7.194543e-14</td>\n",
              "      <td>8.493979e-06</td>\n",
              "      <td>4.444261e-03</td>\n",
              "      <td>2.609426e-07</td>\n",
              "      <td>1.497520e-08</td>\n",
              "    </tr>\n",
              "    <tr>\n",
              "      <th>1</th>\n",
              "      <td>2</td>\n",
              "      <td>4.382693e-04</td>\n",
              "      <td>3.352036e-05</td>\n",
              "      <td>2.077340e-07</td>\n",
              "      <td>2.078800e-08</td>\n",
              "      <td>8.526202e-07</td>\n",
              "      <td>6.731425e-01</td>\n",
              "      <td>2.238532e-04</td>\n",
              "      <td>3.249107e-01</td>\n",
              "      <td>1.250085e-03</td>\n",
              "    </tr>\n",
              "    <tr>\n",
              "      <th>2</th>\n",
              "      <td>3</td>\n",
              "      <td>3.274802e-06</td>\n",
              "      <td>1.998311e-08</td>\n",
              "      <td>5.220279e-09</td>\n",
              "      <td>2.056028e-11</td>\n",
              "      <td>4.407552e-11</td>\n",
              "      <td>9.998838e-01</td>\n",
              "      <td>4.455260e-05</td>\n",
              "      <td>6.772848e-05</td>\n",
              "      <td>6.607735e-07</td>\n",
              "    </tr>\n",
              "    <tr>\n",
              "      <th>3</th>\n",
              "      <td>4</td>\n",
              "      <td>6.774191e-10</td>\n",
              "      <td>7.115148e-01</td>\n",
              "      <td>2.818409e-01</td>\n",
              "      <td>6.643950e-03</td>\n",
              "      <td>1.826456e-09</td>\n",
              "      <td>1.082438e-08</td>\n",
              "      <td>9.998273e-08</td>\n",
              "      <td>2.599292e-09</td>\n",
              "      <td>1.821611e-07</td>\n",
              "    </tr>\n",
              "    <tr>\n",
              "      <th>4</th>\n",
              "      <td>5</td>\n",
              "      <td>6.624649e-01</td>\n",
              "      <td>2.215893e-07</td>\n",
              "      <td>5.720758e-08</td>\n",
              "      <td>2.347878e-09</td>\n",
              "      <td>2.313338e-16</td>\n",
              "      <td>4.724840e-03</td>\n",
              "      <td>1.163455e-03</td>\n",
              "      <td>4.139156e-02</td>\n",
              "      <td>2.902550e-01</td>\n",
              "    </tr>\n",
              "  </tbody>\n",
              "</table>\n",
              "</div>"
            ],
            "text/plain": [
              "   id       Class_1       Class_2       Class_3       Class_4       Class_5  \\\n",
              "0   1  9.618544e-06  1.585929e-01  2.511289e-01  5.858155e-01  7.194543e-14   \n",
              "1   2  4.382693e-04  3.352036e-05  2.077340e-07  2.078800e-08  8.526202e-07   \n",
              "2   3  3.274802e-06  1.998311e-08  5.220279e-09  2.056028e-11  4.407552e-11   \n",
              "3   4  6.774191e-10  7.115148e-01  2.818409e-01  6.643950e-03  1.826456e-09   \n",
              "4   5  6.624649e-01  2.215893e-07  5.720758e-08  2.347878e-09  2.313338e-16   \n",
              "\n",
              "        Class_6       Class_7       Class_8       Class_9  \n",
              "0  8.493979e-06  4.444261e-03  2.609426e-07  1.497520e-08  \n",
              "1  6.731425e-01  2.238532e-04  3.249107e-01  1.250085e-03  \n",
              "2  9.998838e-01  4.455260e-05  6.772848e-05  6.607735e-07  \n",
              "3  1.082438e-08  9.998273e-08  2.599292e-09  1.821611e-07  \n",
              "4  4.724840e-03  1.163455e-03  4.139156e-02  2.902550e-01  "
            ]
          },
          "execution_count": 109,
          "metadata": {},
          "output_type": "execute_result"
        }
      ],
      "source": [
        "%%time\n",
        "# Creamos submission\n",
        "logistic_model.fit(X, y)\n",
        "test_preds = logistic_model.predict_proba(X_test_scaled)\n",
        "\n",
        "output = pd.DataFrame(test_preds,columns=[\"Class_\"+str(i) for i in range(1,10)])\n",
        "output.insert(loc=0, column='id', value=df_test.id)\n",
        "output.to_csv('submission_logistic.csv', index=False)\n",
        "pd.read_csv('submission_logistic.csv').head()"
      ]
    },
    {
      "cell_type": "markdown",
      "metadata": {
        "id": "C4PjFMt-TG32"
      },
      "source": [
        "Este modelo LOGISTICO obtiene un **Local=0.63855, Private_LB=0.63414, Public_LB=0.63382** que es mucho peor que el obtenido con el RF."
      ]
    },
    {
      "cell_type": "markdown",
      "metadata": {
        "id": "y2AJKNThTG32"
      },
      "source": [
        "### Single XGB Submission"
      ]
    },
    {
      "cell_type": "markdown",
      "metadata": {
        "id": "V2LftgfHTG33"
      },
      "source": [
        "**El mejor modelo XGBoost se obtuvo con:**\n",
        "\n",
        "- 'learning_rate': 0.1\n",
        "- 'n_estimators': 650\n",
        "- 'max_depth': 8\n",
        "- 'subsample': 0.8\n",
        "- 'colsample_bytree': 0.6\n",
        "- 'reg_alpha': 0.001\n",
        "- 'reg_lambda': 1.0\n",
        "\n",
        "**con log_loss_val=0.44793749417581175**"
      ]
    },
    {
      "cell_type": "code",
      "execution_count": null,
      "metadata": {
        "id": "uMwD5lJ6TG33",
        "outputId": "033e6993-ef05-476b-d1bd-87f6f0674d8f"
      },
      "outputs": [
        {
          "name": "stdout",
          "output_type": "stream",
          "text": [
            "Best XGB con local log_loss_val=0.44793749417581175\n"
          ]
        }
      ],
      "source": [
        "%%time\n",
        "xgb_model = XGBClassifier(learning_rate =0.1, n_estimators=650, max_depth=8, \n",
        "                          subsample=0.8, colsample_bytree=0.6, nthread=20,\n",
        "                          reg_alpha=0.001, reg_lambda=1.0,\n",
        "                          seed=42, objective='multi:softprob')\n",
        "log_loss_val = entrena_model_hold_out(xgb_model, calibra=True)\n",
        "print(f'Best XGB con local log_loss_val={log_loss_val}')"
      ]
    },
    {
      "cell_type": "code",
      "execution_count": null,
      "metadata": {
        "id": "fvDabYGfTG33",
        "outputId": "b30ae431-22f5-4b6c-94ac-f3ae7472432c"
      },
      "outputs": [
        {
          "data": {
            "text/html": [
              "<div>\n",
              "<style scoped>\n",
              "    .dataframe tbody tr th:only-of-type {\n",
              "        vertical-align: middle;\n",
              "    }\n",
              "\n",
              "    .dataframe tbody tr th {\n",
              "        vertical-align: top;\n",
              "    }\n",
              "\n",
              "    .dataframe thead th {\n",
              "        text-align: right;\n",
              "    }\n",
              "</style>\n",
              "<table border=\"1\" class=\"dataframe\">\n",
              "  <thead>\n",
              "    <tr style=\"text-align: right;\">\n",
              "      <th></th>\n",
              "      <th>id</th>\n",
              "      <th>Class_1</th>\n",
              "      <th>Class_2</th>\n",
              "      <th>Class_3</th>\n",
              "      <th>Class_4</th>\n",
              "      <th>Class_5</th>\n",
              "      <th>Class_6</th>\n",
              "      <th>Class_7</th>\n",
              "      <th>Class_8</th>\n",
              "      <th>Class_9</th>\n",
              "    </tr>\n",
              "  </thead>\n",
              "  <tbody>\n",
              "    <tr>\n",
              "      <th>0</th>\n",
              "      <td>1</td>\n",
              "      <td>0.000043</td>\n",
              "      <td>0.203943</td>\n",
              "      <td>0.163291</td>\n",
              "      <td>0.627479</td>\n",
              "      <td>0.000000</td>\n",
              "      <td>0.000000</td>\n",
              "      <td>0.005041</td>\n",
              "      <td>0.000203</td>\n",
              "      <td>0.000000</td>\n",
              "    </tr>\n",
              "    <tr>\n",
              "      <th>1</th>\n",
              "      <td>2</td>\n",
              "      <td>0.001117</td>\n",
              "      <td>0.007269</td>\n",
              "      <td>0.001035</td>\n",
              "      <td>0.002142</td>\n",
              "      <td>0.000102</td>\n",
              "      <td>0.403497</td>\n",
              "      <td>0.010366</td>\n",
              "      <td>0.572735</td>\n",
              "      <td>0.001737</td>\n",
              "    </tr>\n",
              "    <tr>\n",
              "      <th>2</th>\n",
              "      <td>3</td>\n",
              "      <td>0.000000</td>\n",
              "      <td>0.000000</td>\n",
              "      <td>0.000000</td>\n",
              "      <td>0.000000</td>\n",
              "      <td>0.000000</td>\n",
              "      <td>0.999858</td>\n",
              "      <td>0.000000</td>\n",
              "      <td>0.000142</td>\n",
              "      <td>0.000000</td>\n",
              "    </tr>\n",
              "    <tr>\n",
              "      <th>3</th>\n",
              "      <td>4</td>\n",
              "      <td>0.000051</td>\n",
              "      <td>0.722544</td>\n",
              "      <td>0.264796</td>\n",
              "      <td>0.007854</td>\n",
              "      <td>0.000000</td>\n",
              "      <td>0.000000</td>\n",
              "      <td>0.000254</td>\n",
              "      <td>0.000148</td>\n",
              "      <td>0.004353</td>\n",
              "    </tr>\n",
              "    <tr>\n",
              "      <th>4</th>\n",
              "      <td>5</td>\n",
              "      <td>0.155020</td>\n",
              "      <td>0.000000</td>\n",
              "      <td>0.000473</td>\n",
              "      <td>0.000245</td>\n",
              "      <td>0.000091</td>\n",
              "      <td>0.009504</td>\n",
              "      <td>0.001924</td>\n",
              "      <td>0.074296</td>\n",
              "      <td>0.758446</td>\n",
              "    </tr>\n",
              "  </tbody>\n",
              "</table>\n",
              "</div>"
            ],
            "text/plain": [
              "   id   Class_1   Class_2   Class_3   Class_4   Class_5   Class_6   Class_7  \\\n",
              "0   1  0.000043  0.203943  0.163291  0.627479  0.000000  0.000000  0.005041   \n",
              "1   2  0.001117  0.007269  0.001035  0.002142  0.000102  0.403497  0.010366   \n",
              "2   3  0.000000  0.000000  0.000000  0.000000  0.000000  0.999858  0.000000   \n",
              "3   4  0.000051  0.722544  0.264796  0.007854  0.000000  0.000000  0.000254   \n",
              "4   5  0.155020  0.000000  0.000473  0.000245  0.000091  0.009504  0.001924   \n",
              "\n",
              "    Class_8   Class_9  \n",
              "0  0.000203  0.000000  \n",
              "1  0.572735  0.001737  \n",
              "2  0.000142  0.000000  \n",
              "3  0.000148  0.004353  \n",
              "4  0.074296  0.758446  "
            ]
          },
          "execution_count": 112,
          "metadata": {},
          "output_type": "execute_result"
        }
      ],
      "source": [
        "%%time\n",
        "# Creamos submission\n",
        "calibrated_clf = CalibratedClassifierCV(xgb_model, method='isotonic', cv=5)\n",
        "calibrated_clf.fit(X, y)\n",
        "test_preds = calibrated_clf.predict_proba(X_test_scaled)\n",
        "\n",
        "output = pd.DataFrame(test_preds,columns=[\"Class_\"+str(i) for i in range(1,10)])\n",
        "output.insert(loc=0, column='id', value=df_test.id)\n",
        "output.to_csv('submission_xgb.csv', index=False)\n",
        "pd.read_csv('submission_xgb.csv').head()"
      ]
    },
    {
      "cell_type": "markdown",
      "metadata": {
        "id": "L2Og3572TG34"
      },
      "source": [
        "Este modelo XGBoost obtiene un **Local=0.44794, Private_LB=0.43734, Public_LB=0.43471**. Un modelo muy bueno que **nos situaria en la posición 444 del Private Leaderboard de 3511 equipos (percentil 87.35)**. \n",
        "\n",
        "Hay que tomar en cuenta que es un resultado excelente pues es un SOLO MODELO donde solo se han usado las FEATURES ORIGINALES."
      ]
    },
    {
      "cell_type": "markdown",
      "metadata": {
        "id": "sy-WHN8ITG34"
      },
      "source": [
        "### EJERCICIO  5"
      ]
    },
    {
      "cell_type": "markdown",
      "metadata": {
        "id": "434AHv-ITG34"
      },
      "source": [
        "Otro algoritmo que está ganando popularidad, debido a su velocidad y precisión, es [*lightgbm*](https://lightgbm.readthedocs.io/en/latest/). Este algoritmo, publicado por Microsoft, es similar a *XGBoost* **aunque sensiblemente más rápido** (aunque todo esto puede cambiar en cada versión)."
      ]
    },
    {
      "cell_type": "code",
      "execution_count": 4,
      "metadata": {
        "ExecuteTime": {
          "end_time": "2021-04-20T08:36:48.544902Z",
          "start_time": "2021-04-20T08:36:48.532924Z"
        },
        "id": "BxDwAOUGTG35"
      },
      "outputs": [],
      "source": [
        "# Ejemplo con Parametros iniciales del modelo LGB\n",
        "parametros = {'learning_rate':0.1, 'n_estimators':400, 'max_depth':7,\n",
        "              'min_child_weight':1, 'subsample':1.00, 'subsample_freq':1, 'colsample_bytree':1.00,\n",
        "              'reg_alpha':0.0, 'reg_lambda':0.0}"
      ]
    },
    {
      "cell_type": "markdown",
      "metadata": {
        "id": "y4pL6l_6TG35"
      },
      "source": [
        "Vamos a ver un ejemplo de cálculo con este algoritmo. Como se puede ver, los parámetros son similares a los de *XGBoost*."
      ]
    },
    {
      "cell_type": "code",
      "execution_count": 9,
      "metadata": {
        "ExecuteTime": {
          "end_time": "2021-04-20T08:38:31.672694Z",
          "start_time": "2021-04-20T08:37:33.854038Z"
        },
        "id": "fUqIBjc4TG35",
        "outputId": "4ae71d3c-2391-40d3-ea24-23cf93375130",
        "colab": {
          "base_uri": "https://localhost:8080/"
        }
      },
      "outputs": [
        {
          "output_type": "stream",
          "name": "stdout",
          "text": [
            "LGB local log_loss_val=0.4684171847396549\n"
          ]
        }
      ],
      "source": [
        "lgb_model = LGBMClassifier(boosting_type='gbdt',objective='multiclass',random_state=42,\n",
        "                           n_jobs=-1,silent=True, importance_type='split',\n",
        "                           learning_rate=parametros['learning_rate'], \n",
        "                           n_estimators=parametros['n_estimators'], \n",
        "                           max_depth=parametros['max_depth'], \n",
        "                           min_child_weight=parametros['min_child_weight'], \n",
        "                           min_child_samples=0, \n",
        "                           subsample=parametros['subsample'], \n",
        "                           subsample_freq=parametros['subsample_freq'],\n",
        "                           colsample_bytree=parametros['colsample_bytree'], \n",
        "                           reg_alpha=parametros['reg_alpha'], \n",
        "                           reg_lambda=parametros['reg_lambda'] \n",
        "                          )\n",
        "log_loss_val = entrena_model_hold_out(lgb_model, calibra=True)\n",
        "print(f'LGB local log_loss_val={log_loss_val}')"
      ]
    },
    {
      "cell_type": "markdown",
      "metadata": {
        "id": "14edhx6WTG36"
      },
      "source": [
        "**Usando la metodología empleada en el ajuste del modelo XGB, buscar un modelo LGB con el menor error de validación posible. El objetivo es ajustar de la mejor forma posible los 8 [parámetros](https://lightgbm.readthedocs.io/en/latest/Parameters.html) del algoritmo Lightgbm: 'learning_rate','n_estimators', 'max_depth', 'min_child_weight', 'subsample', 'colsample_bytree',\n",
        "              'lambda_l1' y 'lambda_l2'**\n",
        "\n",
        "**Crear la submission, enviarla a Kaggle y presentar los Scores Finales Publicos y Privados. Incluir en este cuaderno una foto de la pantalla de Kaggle con los resultados de la Submission realizada donde se muestre el Private_LB y Public_LB.**\n",
        "\n",
        "**ATENCION: Para mejorar los tiempos de búsqueda es RECOMENDABLE reducir los rangos de búsqueda de los parámetros basándose en los mejores valores obtenidos con XGBoost. Esta metodología se puede aplicar también en los pasos siguientes.**"
      ]
    },
    {
      "cell_type": "code",
      "execution_count": 2,
      "metadata": {
        "id": "ulGlPkb0hCT-"
      },
      "outputs": [],
      "source": [
        "def busca_param(valores, nombre_var, parametros):\n",
        "    scores = []\n",
        "    for valor in tqdm(valores):\n",
        "        parametros[nombre_var]=valor\n",
        "        lgb_model = LGBMClassifier(boosting_type='gbdt',objective='multiclass',random_state=42,\n",
        "                           n_jobs=-1,silent=True, importance_type='split',\n",
        "                           learning_rate=parametros['learning_rate'], \n",
        "                           n_estimators=parametros['n_estimators'], \n",
        "                           max_depth=parametros['max_depth'], \n",
        "                           min_child_weight=parametros['min_child_weight'], \n",
        "                           min_child_samples=0, \n",
        "                           subsample=parametros['subsample'], \n",
        "                           subsample_freq=parametros['subsample_freq'],\n",
        "                           colsample_bytree=parametros['colsample_bytree'], \n",
        "                           reg_alpha=parametros['reg_alpha'], \n",
        "                           reg_lambda=parametros['reg_lambda'] \n",
        "                          )\n",
        "        log_loss_val = entrena_model_hold_out(lgb_model, calibra=True)\n",
        "        print(f'{nombre_var}={valor} log_loss_val={log_loss_val}')\n",
        "        scores.append(log_loss_val)\n",
        "    plt.plot(valores,scores,'o-')\n",
        "    plt.ylabel('log_loss_val')\n",
        "    plt.xlabel(nombre_var)\n",
        "    print(f'Mejor {nombre_var}={valores[np.argmin(scores)]} Score={np.min(scores)}')\n",
        "    return valores[np.argmin(scores)]"
      ]
    },
    {
      "cell_type": "code",
      "execution_count": 11,
      "metadata": {
        "scrolled": true,
        "outputId": "e991b90f-e3eb-466e-b4f7-38a4088de27a",
        "colab": {
          "referenced_widgets": [
            "c0340481a2c0412c8fed931258825dea",
            "6276b39ed75c48d5ae3a67f1746f8561",
            "0f2389f0864348a8a0153dda5a0e5512",
            "be185bdff69a41ad90a5103c484aac7f",
            "94f8b7877b47410ba4797cc76e31c66d",
            "b3a5501bcba54a6bb3fc99ed254086b1",
            "a5220af8e09642df92c69a50deb0195c",
            "d7fafe4a81b44186a52cdfe5411b342b",
            "7f3c87f75f8e49c4a1fc055668c96773",
            "d4b9920710ed432b8e2bb8bf9b40ad05",
            "67a626abfb974349ac736a66fd7eddca"
          ],
          "base_uri": "https://localhost:8080/",
          "height": 522
        },
        "id": "GZdJTKI7hCUD"
      },
      "outputs": [
        {
          "output_type": "display_data",
          "data": {
            "text/plain": [
              "  0%|          | 0/8 [00:00<?, ?it/s]"
            ],
            "application/vnd.jupyter.widget-view+json": {
              "version_major": 2,
              "version_minor": 0,
              "model_id": "c0340481a2c0412c8fed931258825dea"
            }
          },
          "metadata": {}
        },
        {
          "output_type": "stream",
          "name": "stdout",
          "text": [
            "n_estimators=300 log_loss_val=0.4752293746263962\n",
            "n_estimators=400 log_loss_val=0.4684171847396549\n",
            "n_estimators=500 log_loss_val=0.46351224952337744\n",
            "n_estimators=600 log_loss_val=0.45888463385939227\n",
            "n_estimators=700 log_loss_val=0.45748550155040907\n",
            "n_estimators=800 log_loss_val=0.4567048025036585\n",
            "n_estimators=900 log_loss_val=0.45808464486709066\n",
            "n_estimators=1000 log_loss_val=0.4588160409462104\n",
            "Mejor n_estimators=800 Score=0.4567048025036585\n",
            "{'learning_rate': 0.1, 'n_estimators': 800, 'max_depth': 7, 'min_child_weight': 1, 'subsample': 1.0, 'subsample_freq': 1, 'colsample_bytree': 1.0, 'reg_alpha': 0.0, 'reg_lambda': 0.0}\n",
            "CPU times: user 2h 5min 4s, sys: 31.7 s, total: 2h 5min 35s\n",
            "Wall time: 1h 4min 19s\n"
          ]
        },
        {
          "output_type": "display_data",
          "data": {
            "text/plain": [
              "<Figure size 432x288 with 1 Axes>"
            ],
            "image/png": "[encoded data removed]"
          },
          "metadata": {}
        }
      ],
      "source": [
        "%%time\n",
        "# Busqueda del numero de arboles\n",
        "parametros['n_estimators'] = busca_param(np.arange(300,1100,100), 'n_estimators', parametros)\n",
        "print(parametros)"
      ]
    },
    {
      "cell_type": "code",
      "execution_count": 12,
      "metadata": {
        "outputId": "6df9c6c3-6ebe-45a5-c772-1900d2361af8",
        "colab": {
          "referenced_widgets": [
            "d11d1f3df0414c238d414510fd716e31",
            "603c2db8258b4aa0b3919538793dd440",
            "946e494b6d1f48c0a479c2e05ca6e462",
            "c9b132bcca2b42b0bf855f5df3bb0799",
            "46deb55bf25549a89296de0ec5fac7be",
            "734ee536dfd14f6eaef8bd65dcd02d23",
            "578c85b8c0574f2ca775ef461cd62a01",
            "93c92449b8fc4196898b09725cc60bf9",
            "3a8f098e5b264b349669e88951577930",
            "2fd34662efe046a485caa63b4bc3769f",
            "abee89262a804943bfbad4b6fc80cc9a"
          ],
          "base_uri": "https://localhost:8080/",
          "height": 574
        },
        "id": "b_rqHyLBhCUE"
      },
      "outputs": [
        {
          "output_type": "display_data",
          "data": {
            "text/plain": [
              "  0%|          | 0/11 [00:00<?, ?it/s]"
            ],
            "application/vnd.jupyter.widget-view+json": {
              "version_major": 2,
              "version_minor": 0,
              "model_id": "d11d1f3df0414c238d414510fd716e31"
            }
          },
          "metadata": {}
        },
        {
          "output_type": "stream",
          "name": "stdout",
          "text": [
            "max_depth=2 log_loss_val=0.5423667174408154\n",
            "max_depth=3 log_loss_val=0.505782791361936\n",
            "max_depth=4 log_loss_val=0.4810183941189745\n",
            "max_depth=5 log_loss_val=0.46723001456885094\n",
            "max_depth=6 log_loss_val=0.46091011231568835\n",
            "max_depth=7 log_loss_val=0.4567048025036585\n",
            "max_depth=8 log_loss_val=0.45775128184681424\n",
            "max_depth=9 log_loss_val=0.4573979827965668\n",
            "max_depth=10 log_loss_val=0.45625995417328674\n",
            "max_depth=11 log_loss_val=0.45718004364043735\n",
            "max_depth=12 log_loss_val=0.45605226258678166\n",
            "Mejor max_depth=12 Score=0.45605226258678166\n",
            "{'learning_rate': 0.1, 'n_estimators': 800, 'max_depth': 12, 'min_child_weight': 1, 'subsample': 1.0, 'subsample_freq': 1, 'colsample_bytree': 1.0, 'reg_alpha': 0.0, 'reg_lambda': 0.0}\n",
            "CPU times: user 3h 16min 20s, sys: 46 s, total: 3h 17min 6s\n",
            "Wall time: 1h 40min 56s\n"
          ]
        },
        {
          "output_type": "display_data",
          "data": {
            "text/plain": [
              "<Figure size 432x288 with 1 Axes>"
            ],
            "image/png": "[encoded data removed]"
          },
          "metadata": {}
        }
      ],
      "source": [
        "%%time\n",
        "# Maxima profundidad\n",
        "parametros['max_depth'] = busca_param(np.arange(2,13), 'max_depth', parametros)\n",
        "print(parametros)"
      ]
    },
    {
      "cell_type": "code",
      "execution_count": 13,
      "metadata": {
        "id": "XuRoCzx5hCUE"
      },
      "outputs": [],
      "source": [
        "# # Minimos Pesos por particion\n",
        "# parametros['min_child_weight'] = busca_param(np.arange(1,6), 'min_child_weight', parametros)\n",
        "# print(parametros)"
      ]
    },
    {
      "cell_type": "code",
      "execution_count": 14,
      "metadata": {
        "outputId": "8a176908-6cb3-4c48-fac2-4e33436b7547",
        "colab": {
          "referenced_widgets": [
            "ab8b9b6f0dc34497803904bd6b88bac3",
            "9adbf9c3becd4c60a3fcfd6abefd4667",
            "2ecd9b996b274f16b2a2f2e8bb19cca6",
            "04a9eb91b92e40e59b30e0639cf7f9c9",
            "0bfa1646b5254d32ae044c0a8cc7e11f",
            "f33b68ba9b0e49c7951e646fd90fc2e0",
            "cf18a4d7108742998ad4e6608a5e08a6",
            "8823a4d29f24495dbfaceb3940106624",
            "990f8e5291084bcaa4a446e3ddf2293f",
            "bf61c20b5873431e9c4d9567dc75b669",
            "1e96f2063570442ab9bcc32b8b9e9bbd"
          ],
          "base_uri": "https://localhost:8080/",
          "height": 488
        },
        "id": "5DWrDhOPhCUE"
      },
      "outputs": [
        {
          "output_type": "display_data",
          "data": {
            "text/plain": [
              "  0%|          | 0/6 [00:00<?, ?it/s]"
            ],
            "application/vnd.jupyter.widget-view+json": {
              "version_major": 2,
              "version_minor": 0,
              "model_id": "ab8b9b6f0dc34497803904bd6b88bac3"
            }
          },
          "metadata": {}
        },
        {
          "output_type": "stream",
          "name": "stdout",
          "text": [
            "subsample=0.5 log_loss_val=0.4504510555348987\n",
            "subsample=0.6 log_loss_val=0.44996918324115215\n",
            "subsample=0.7 log_loss_val=0.45083341799399135\n",
            "subsample=0.8 log_loss_val=0.4504751869818544\n",
            "subsample=0.9 log_loss_val=0.45053383452149376\n",
            "subsample=1.0 log_loss_val=0.45605226258678166\n",
            "Mejor subsample=0.6 Score=0.44996918324115215\n",
            "{'learning_rate': 0.1, 'n_estimators': 800, 'max_depth': 12, 'min_child_weight': 1, 'subsample': 0.6, 'subsample_freq': 1, 'colsample_bytree': 1.0, 'reg_alpha': 0.0, 'reg_lambda': 0.0}\n",
            "CPU times: user 1h 57min 28s, sys: 33.2 s, total: 1h 58min 1s\n",
            "Wall time: 1h 21s\n"
          ]
        },
        {
          "output_type": "display_data",
          "data": {
            "text/plain": [
              "<Figure size 432x288 with 1 Axes>"
            ],
            "image/png": "[encoded data removed]"
          },
          "metadata": {}
        }
      ],
      "source": [
        "%%time\n",
        "# Subsample\n",
        "parametros['subsample'] = busca_param(np.arange(5,11)/10.0, 'subsample', parametros)\n",
        "print(parametros)"
      ]
    },
    {
      "cell_type": "code",
      "execution_count": 15,
      "metadata": {
        "outputId": "cc9da4e6-7670-4f29-aa01-380baaa4a6a8",
        "colab": {
          "referenced_widgets": [
            "afb565e9d4f04e36b1c0fa5b3b0b791f",
            "92330eed489744eabf5fa68c6807bfd9",
            "c7ddefca8b1b4eb19327ba63a7eaa990",
            "61d50b897a9747c190109343eb38fc0c",
            "7fd2ced669044ccc85ec2e4c5e87b26d",
            "128b48ebdcbe48aa971e6a42650e7960",
            "13058009e8ea4977a0c9956b95457cd7",
            "7ae4e69ee9be4bcabd2be7aae4d5f4db",
            "6c90ef3a0c7a4ecc8a7b198e2200d679",
            "bf40f489a6d5463c9220b16147826cee",
            "7d0790cec25345de883cc716df5d3c10"
          ],
          "base_uri": "https://localhost:8080/",
          "height": 557
        },
        "id": "HZVD4-SIhCUF"
      },
      "outputs": [
        {
          "output_type": "display_data",
          "data": {
            "text/plain": [
              "  0%|          | 0/10 [00:00<?, ?it/s]"
            ],
            "application/vnd.jupyter.widget-view+json": {
              "version_major": 2,
              "version_minor": 0,
              "model_id": "afb565e9d4f04e36b1c0fa5b3b0b791f"
            }
          },
          "metadata": {}
        },
        {
          "output_type": "stream",
          "name": "stdout",
          "text": [
            "colsample_bytree=0.1 log_loss_val=0.47524424524808967\n",
            "colsample_bytree=0.2 log_loss_val=0.4575120999296723\n",
            "colsample_bytree=0.3 log_loss_val=0.4536620261856449\n",
            "colsample_bytree=0.4 log_loss_val=0.4523150578666223\n",
            "colsample_bytree=0.5 log_loss_val=0.4489373247946083\n",
            "colsample_bytree=0.6 log_loss_val=0.44945532856930376\n",
            "colsample_bytree=0.7 log_loss_val=0.4509236425803859\n",
            "colsample_bytree=0.8 log_loss_val=0.45172095691352376\n",
            "colsample_bytree=0.9 log_loss_val=0.45173816881265866\n",
            "colsample_bytree=1.0 log_loss_val=0.44996918324115215\n",
            "Mejor colsample_bytree=0.5 Score=0.4489373247946083\n",
            "{'learning_rate': 0.1, 'n_estimators': 800, 'max_depth': 12, 'min_child_weight': 1, 'subsample': 0.6, 'subsample_freq': 1, 'colsample_bytree': 0.5, 'reg_alpha': 0.0, 'reg_lambda': 0.0}\n",
            "CPU times: user 2h 1min 25s, sys: 46.6 s, total: 2h 2min 11s\n",
            "Wall time: 1h 2min 39s\n"
          ]
        },
        {
          "output_type": "display_data",
          "data": {
            "text/plain": [
              "<Figure size 432x288 with 1 Axes>"
            ],
            "image/png": "[encoded data removed]"
          },
          "metadata": {}
        }
      ],
      "source": [
        "%%time\n",
        "# Colsample_bytree\n",
        "parametros['colsample_bytree'] = busca_param(np.arange(1,11)/10.0, 'colsample_bytree', parametros)\n",
        "print(parametros)"
      ]
    },
    {
      "cell_type": "code",
      "execution_count": 16,
      "metadata": {
        "outputId": "d1219c42-bfe4-4167-c5f0-a26d85736ab4",
        "colab": {
          "referenced_widgets": [
            "0b77d61198194d36b96498f39b9a93fe",
            "57a3ea64da3143939818e10f146ee51a",
            "9d6c1bd8c3394e11b6fe1595c98069fe",
            "cb6f6da6779f470985aaf3327d94553a",
            "fa739c1777f3496b815225a7bf07329e",
            "cfa6c48865fd4e7ebdc21a773db16a2d",
            "9e6dc72b3c3a4f50aa93d33ebcf35afd",
            "b00badd682d94003802391d978e4ff83",
            "30edfa9e8f7d4ace85cd867588694af4",
            "31e54aa2403f402d992e6f510726cf57",
            "d7ea0fd2fbd4420eb474b6d28e54eb2d"
          ],
          "base_uri": "https://localhost:8080/",
          "height": 522
        },
        "id": "pGjF0tT8hCUF"
      },
      "outputs": [
        {
          "output_type": "display_data",
          "data": {
            "text/plain": [
              "  0%|          | 0/8 [00:00<?, ?it/s]"
            ],
            "application/vnd.jupyter.widget-view+json": {
              "version_major": 2,
              "version_minor": 0,
              "model_id": "0b77d61198194d36b96498f39b9a93fe"
            }
          },
          "metadata": {}
        },
        {
          "output_type": "stream",
          "name": "stdout",
          "text": [
            "reg_alpha=0.0 log_loss_val=0.4489373247946083\n",
            "reg_alpha=0.0001 log_loss_val=0.4515096105286566\n",
            "reg_alpha=0.001 log_loss_val=0.4529856221645933\n",
            "reg_alpha=0.01 log_loss_val=0.4522255392109782\n",
            "reg_alpha=0.1 log_loss_val=0.44925940391917724\n",
            "reg_alpha=1.0 log_loss_val=0.4534684459103631\n",
            "reg_alpha=5 log_loss_val=0.4667044483315154\n",
            "reg_alpha=10 log_loss_val=0.48910982887037496\n",
            "Mejor reg_alpha=0.0 Score=0.4489373247946083\n",
            "{'learning_rate': 0.1, 'n_estimators': 800, 'max_depth': 12, 'min_child_weight': 1, 'subsample': 0.6, 'subsample_freq': 1, 'colsample_bytree': 0.5, 'reg_alpha': 0.0, 'reg_lambda': 0.0}\n",
            "CPU times: user 1h 33min 33s, sys: 37.7 s, total: 1h 34min 11s\n",
            "Wall time: 48min 25s\n"
          ]
        },
        {
          "output_type": "display_data",
          "data": {
            "text/plain": [
              "<Figure size 432x288 with 1 Axes>"
            ],
            "image/png": "[encoded data removed]"
          },
          "metadata": {}
        }
      ],
      "source": [
        "%%time\n",
        "# Probamos con Regularización L1\n",
        "parametros['reg_alpha'] = busca_param([0.0, 0.0001, 0.001, 0.01, 0.1, 1.0, 5, 10], 'reg_alpha', parametros)\n",
        "print(parametros)"
      ]
    },
    {
      "cell_type": "code",
      "execution_count": 17,
      "metadata": {
        "outputId": "c58ca2e6-d90e-4e44-d2fd-5e824794eee0",
        "colab": {
          "referenced_widgets": [
            "921b95dfc4634cf58d52b5676e77ce20",
            "b0625cc05e664b67a83e027d0ce728bb",
            "eb5b5fbdc73a4147aafb43c9042ae979",
            "9d30a56ff92748b1955485052c0d2e7d",
            "b693c0cd0242463c9e61a866ed9760bc",
            "0f065ec8076d4783845fa3b185a63e32",
            "249eddf16e304f4ba118c21cda92d65d",
            "4b5ec7a9870b443289ea085c585cb5e5",
            "2b7ef233cdaa435b96cc66860a4fc8f9",
            "be0cba13beb9490ea3d315e4fba2db86",
            "58441d540e95428fa9c45ced459b5ba3"
          ],
          "base_uri": "https://localhost:8080/",
          "height": 522
        },
        "id": "9KxvycWVhCUG"
      },
      "outputs": [
        {
          "output_type": "display_data",
          "data": {
            "text/plain": [
              "  0%|          | 0/8 [00:00<?, ?it/s]"
            ],
            "application/vnd.jupyter.widget-view+json": {
              "version_major": 2,
              "version_minor": 0,
              "model_id": "921b95dfc4634cf58d52b5676e77ce20"
            }
          },
          "metadata": {}
        },
        {
          "output_type": "stream",
          "name": "stdout",
          "text": [
            "reg_lambda=0.0 log_loss_val=0.4489373247946083\n",
            "reg_lambda=0.0001 log_loss_val=0.45222248290750344\n",
            "reg_lambda=0.001 log_loss_val=0.45179591487232607\n",
            "reg_lambda=0.01 log_loss_val=0.45171031424613356\n",
            "reg_lambda=0.1 log_loss_val=0.45151470316652415\n",
            "reg_lambda=1.0 log_loss_val=0.4525104496032406\n",
            "reg_lambda=5 log_loss_val=0.4545709366282846\n",
            "reg_lambda=10 log_loss_val=0.45599179907322857\n",
            "Mejor reg_lambda=0.0 Score=0.4489373247946083\n",
            "{'learning_rate': 0.1, 'n_estimators': 800, 'max_depth': 12, 'min_child_weight': 1, 'subsample': 0.6, 'subsample_freq': 1, 'colsample_bytree': 0.5, 'reg_alpha': 0.0, 'reg_lambda': 0.0}\n",
            "CPU times: user 1h 33min 15s, sys: 37.4 s, total: 1h 33min 52s\n",
            "Wall time: 48min 1s\n"
          ]
        },
        {
          "output_type": "display_data",
          "data": {
            "text/plain": [
              "<Figure size 432x288 with 1 Axes>"
            ],
            "image/png": "[encoded data removed]"
          },
          "metadata": {}
        }
      ],
      "source": [
        "%%time\n",
        "# Probamos con Regularización L2\n",
        "parametros['reg_lambda'] = busca_param([0.0, 0.0001, 0.001, 0.01, 0.1, 1.0, 5, 10], 'reg_lambda', parametros)\n",
        "print(parametros)"
      ]
    },
    {
      "cell_type": "code",
      "execution_count": 5,
      "metadata": {
        "outputId": "0fe9442b-076d-4e3a-bed2-2e397d449a84",
        "colab": {
          "base_uri": "https://localhost:8080/",
          "height": 380
        },
        "id": "jKq8BK9ZhCUG"
      },
      "outputs": [
        {
          "output_type": "error",
          "ename": "NameError",
          "evalue": "ignored",
          "traceback": [
            "\u001b[0;31m---------------------------------------------------------------------------\u001b[0m",
            "\u001b[0;31mNameError\u001b[0m                                 Traceback (most recent call last)",
            "\u001b[0;32m<ipython-input-5-5b4bfc8899d7>\u001b[0m in \u001b[0;36m<module>\u001b[0;34m()\u001b[0m\n\u001b[0;32m----> 1\u001b[0;31m \u001b[0mget_ipython\u001b[0m\u001b[0;34m(\u001b[0m\u001b[0;34m)\u001b[0m\u001b[0;34m.\u001b[0m\u001b[0mrun_cell_magic\u001b[0m\u001b[0;34m(\u001b[0m\u001b[0;34m'time'\u001b[0m\u001b[0;34m,\u001b[0m \u001b[0;34m''\u001b[0m\u001b[0;34m,\u001b[0m \u001b[0;34m\"# Learning rate\\nparametros['learning_rate'] = busca_param([0.001, 0.005, 0.01, 0.05, 0.1, 0.15, 0.2, 0.25, 0.3], 'learning_rate', parametros)\\nprint(parametros)\"\u001b[0m\u001b[0;34m)\u001b[0m\u001b[0;34m\u001b[0m\u001b[0;34m\u001b[0m\u001b[0m\n\u001b[0m",
            "\u001b[0;32m/usr/local/lib/python3.7/dist-packages/IPython/core/interactiveshell.py\u001b[0m in \u001b[0;36mrun_cell_magic\u001b[0;34m(self, magic_name, line, cell)\u001b[0m\n\u001b[1;32m   2115\u001b[0m             \u001b[0mmagic_arg_s\u001b[0m \u001b[0;34m=\u001b[0m \u001b[0mself\u001b[0m\u001b[0;34m.\u001b[0m\u001b[0mvar_expand\u001b[0m\u001b[0;34m(\u001b[0m\u001b[0mline\u001b[0m\u001b[0;34m,\u001b[0m \u001b[0mstack_depth\u001b[0m\u001b[0;34m)\u001b[0m\u001b[0;34m\u001b[0m\u001b[0;34m\u001b[0m\u001b[0m\n\u001b[1;32m   2116\u001b[0m             \u001b[0;32mwith\u001b[0m \u001b[0mself\u001b[0m\u001b[0;34m.\u001b[0m\u001b[0mbuiltin_trap\u001b[0m\u001b[0;34m:\u001b[0m\u001b[0;34m\u001b[0m\u001b[0;34m\u001b[0m\u001b[0m\n\u001b[0;32m-> 2117\u001b[0;31m                 \u001b[0mresult\u001b[0m \u001b[0;34m=\u001b[0m \u001b[0mfn\u001b[0m\u001b[0;34m(\u001b[0m\u001b[0mmagic_arg_s\u001b[0m\u001b[0;34m,\u001b[0m \u001b[0mcell\u001b[0m\u001b[0;34m)\u001b[0m\u001b[0;34m\u001b[0m\u001b[0;34m\u001b[0m\u001b[0m\n\u001b[0m\u001b[1;32m   2118\u001b[0m             \u001b[0;32mreturn\u001b[0m \u001b[0mresult\u001b[0m\u001b[0;34m\u001b[0m\u001b[0;34m\u001b[0m\u001b[0m\n\u001b[1;32m   2119\u001b[0m \u001b[0;34m\u001b[0m\u001b[0m\n",
            "\u001b[0;32m<decorator-gen-53>\u001b[0m in \u001b[0;36mtime\u001b[0;34m(self, line, cell, local_ns)\u001b[0m\n",
            "\u001b[0;32m/usr/local/lib/python3.7/dist-packages/IPython/core/magic.py\u001b[0m in \u001b[0;36m<lambda>\u001b[0;34m(f, *a, **k)\u001b[0m\n\u001b[1;32m    186\u001b[0m     \u001b[0;31m# but it's overkill for just that one bit of state.\u001b[0m\u001b[0;34m\u001b[0m\u001b[0;34m\u001b[0m\u001b[0;34m\u001b[0m\u001b[0m\n\u001b[1;32m    187\u001b[0m     \u001b[0;32mdef\u001b[0m \u001b[0mmagic_deco\u001b[0m\u001b[0;34m(\u001b[0m\u001b[0marg\u001b[0m\u001b[0;34m)\u001b[0m\u001b[0;34m:\u001b[0m\u001b[0;34m\u001b[0m\u001b[0;34m\u001b[0m\u001b[0m\n\u001b[0;32m--> 188\u001b[0;31m         \u001b[0mcall\u001b[0m \u001b[0;34m=\u001b[0m \u001b[0;32mlambda\u001b[0m \u001b[0mf\u001b[0m\u001b[0;34m,\u001b[0m \u001b[0;34m*\u001b[0m\u001b[0ma\u001b[0m\u001b[0;34m,\u001b[0m \u001b[0;34m**\u001b[0m\u001b[0mk\u001b[0m\u001b[0;34m:\u001b[0m \u001b[0mf\u001b[0m\u001b[0;34m(\u001b[0m\u001b[0;34m*\u001b[0m\u001b[0ma\u001b[0m\u001b[0;34m,\u001b[0m \u001b[0;34m**\u001b[0m\u001b[0mk\u001b[0m\u001b[0;34m)\u001b[0m\u001b[0;34m\u001b[0m\u001b[0;34m\u001b[0m\u001b[0m\n\u001b[0m\u001b[1;32m    189\u001b[0m \u001b[0;34m\u001b[0m\u001b[0m\n\u001b[1;32m    190\u001b[0m         \u001b[0;32mif\u001b[0m \u001b[0mcallable\u001b[0m\u001b[0;34m(\u001b[0m\u001b[0marg\u001b[0m\u001b[0;34m)\u001b[0m\u001b[0;34m:\u001b[0m\u001b[0;34m\u001b[0m\u001b[0;34m\u001b[0m\u001b[0m\n",
            "\u001b[0;32m/usr/local/lib/python3.7/dist-packages/IPython/core/magics/execution.py\u001b[0m in \u001b[0;36mtime\u001b[0;34m(self, line, cell, local_ns)\u001b[0m\n\u001b[1;32m   1191\u001b[0m         \u001b[0;32melse\u001b[0m\u001b[0;34m:\u001b[0m\u001b[0;34m\u001b[0m\u001b[0;34m\u001b[0m\u001b[0m\n\u001b[1;32m   1192\u001b[0m             \u001b[0mst\u001b[0m \u001b[0;34m=\u001b[0m \u001b[0mclock2\u001b[0m\u001b[0;34m(\u001b[0m\u001b[0;34m)\u001b[0m\u001b[0;34m\u001b[0m\u001b[0;34m\u001b[0m\u001b[0m\n\u001b[0;32m-> 1193\u001b[0;31m             \u001b[0mexec\u001b[0m\u001b[0;34m(\u001b[0m\u001b[0mcode\u001b[0m\u001b[0;34m,\u001b[0m \u001b[0mglob\u001b[0m\u001b[0;34m,\u001b[0m \u001b[0mlocal_ns\u001b[0m\u001b[0;34m)\u001b[0m\u001b[0;34m\u001b[0m\u001b[0;34m\u001b[0m\u001b[0m\n\u001b[0m\u001b[1;32m   1194\u001b[0m             \u001b[0mend\u001b[0m \u001b[0;34m=\u001b[0m \u001b[0mclock2\u001b[0m\u001b[0;34m(\u001b[0m\u001b[0;34m)\u001b[0m\u001b[0;34m\u001b[0m\u001b[0;34m\u001b[0m\u001b[0m\n\u001b[1;32m   1195\u001b[0m             \u001b[0mout\u001b[0m \u001b[0;34m=\u001b[0m \u001b[0;32mNone\u001b[0m\u001b[0;34m\u001b[0m\u001b[0;34m\u001b[0m\u001b[0m\n",
            "\u001b[0;32m<timed exec>\u001b[0m in \u001b[0;36m<module>\u001b[0;34m()\u001b[0m\n",
            "\u001b[0;32m<ipython-input-2-f5d616220ce7>\u001b[0m in \u001b[0;36mbusca_param\u001b[0;34m(valores, nombre_var, parametros)\u001b[0m\n\u001b[1;32m      1\u001b[0m \u001b[0;32mdef\u001b[0m \u001b[0mbusca_param\u001b[0m\u001b[0;34m(\u001b[0m\u001b[0mvalores\u001b[0m\u001b[0;34m,\u001b[0m \u001b[0mnombre_var\u001b[0m\u001b[0;34m,\u001b[0m \u001b[0mparametros\u001b[0m\u001b[0;34m)\u001b[0m\u001b[0;34m:\u001b[0m\u001b[0;34m\u001b[0m\u001b[0;34m\u001b[0m\u001b[0m\n\u001b[1;32m      2\u001b[0m     \u001b[0mscores\u001b[0m \u001b[0;34m=\u001b[0m \u001b[0;34m[\u001b[0m\u001b[0;34m]\u001b[0m\u001b[0;34m\u001b[0m\u001b[0;34m\u001b[0m\u001b[0m\n\u001b[0;32m----> 3\u001b[0;31m     \u001b[0;32mfor\u001b[0m \u001b[0mvalor\u001b[0m \u001b[0;32min\u001b[0m \u001b[0mtqdm\u001b[0m\u001b[0;34m(\u001b[0m\u001b[0mvalores\u001b[0m\u001b[0;34m)\u001b[0m\u001b[0;34m:\u001b[0m\u001b[0;34m\u001b[0m\u001b[0;34m\u001b[0m\u001b[0m\n\u001b[0m\u001b[1;32m      4\u001b[0m         \u001b[0mparametros\u001b[0m\u001b[0;34m[\u001b[0m\u001b[0mnombre_var\u001b[0m\u001b[0;34m]\u001b[0m\u001b[0;34m=\u001b[0m\u001b[0mvalor\u001b[0m\u001b[0;34m\u001b[0m\u001b[0;34m\u001b[0m\u001b[0m\n\u001b[1;32m      5\u001b[0m         lgb_model = LGBMClassifier(boosting_type='gbdt',objective='multiclass',random_state=42,\n",
            "\u001b[0;31mNameError\u001b[0m: name 'tqdm' is not defined"
          ]
        }
      ],
      "source": [
        "%%time\n",
        "# Learning rate\n",
        "parametros['learning_rate'] = busca_param([0.001, 0.005, 0.01, 0.05, 0.1, 0.15, 0.2, 0.25, 0.3], 'learning_rate', parametros)\n",
        "print(parametros)"
      ]
    },
    {
      "cell_type": "code",
      "execution_count": null,
      "metadata": {
        "id": "9T7P5bEthCUG"
      },
      "outputs": [],
      "source": [
        "%%time\n",
        "# Busqueda fina del numero de arboles a partir del mejor\n",
        "parametros['n_estimators'] = busca_param(np.arange(parametros['n_estimators']-150,parametros['n_estimators']+150,25),\n",
        "                                         'n_estimators', parametros)\n",
        "print(parametros)"
      ]
    },
    {
      "cell_type": "markdown",
      "metadata": {
        "id": "iBvujMy0TG37"
      },
      "source": [
        "## ENTREGA"
      ]
    },
    {
      "cell_type": "markdown",
      "metadata": {
        "id": "KX6cjqgZTG37"
      },
      "source": [
        "**Todos los pasos realizados deberán ser explicados con detalle en un documento PDF. El nombre del archivo deberá incluir lo siguiente 'PROYECTO3_NombreDelAlumnoSinAcentos.PDF'. Ejemplo: PROYECTO3_PEPITO_PEREZ.PDF**\n",
        "\n",
        "Si usas Colab, recuerde guardar sus cambios en su repositorio utilizando la opción \"Save a copy in GitHub...\" del menú File."
      ]
    },
    {
      "cell_type": "code",
      "execution_count": null,
      "metadata": {
        "id": "ZJA-rsYjTG37"
      },
      "outputs": [],
      "source": [
        ""
      ]
    }
  ],
  "metadata": {
    "kernelspec": {
      "display_name": "Python 3 (ipykernel)",
      "language": "python",
      "name": "python3"
    },
    "language_info": {
      "codemirror_mode": {
        "name": "ipython",
        "version": 3
      },
      "file_extension": ".py",
      "mimetype": "text/x-python",
      "name": "python",
      "nbconvert_exporter": "python",
      "pygments_lexer": "ipython3",
      "version": "3.9.7"
    },
    "toc": {
      "base_numbering": 1,
      "nav_menu": {},
      "number_sections": true,
      "sideBar": true,
      "skip_h1_title": false,
      "title_cell": "Table of Contents",
      "title_sidebar": "Contents",
      "toc_cell": false,
      "toc_position": {},
      "toc_section_display": true,
      "toc_window_display": false
    },
    "varInspector": {
      "cols": {
        "lenName": 16,
        "lenType": 16,
        "lenVar": 40
      },
      "kernels_config": {
        "python": {
          "delete_cmd_postfix": "",
          "delete_cmd_prefix": "del ",
          "library": "var_list.py",
          "varRefreshCmd": "print(var_dic_list())"
        },
        "r": {
          "delete_cmd_postfix": ") ",
          "delete_cmd_prefix": "rm(",
          "library": "var_list.r",
          "varRefreshCmd": "cat(var_dic_list()) "
        }
      },
      "types_to_exclude": [
        "module",
        "function",
        "builtin_function_or_method",
        "instance",
        "_Feature"
      ],
      "window_display": false
    },
    "colab": {
      "name": "Proyecto_3_3_Ajuste_de_Hiperparámetros_Modelos_Multiclase.ipynb",
      "provenance": []
    },
    "widgets": {
      "application/vnd.jupyter.widget-state+json": {
        "c0340481a2c0412c8fed931258825dea": {
          "model_module": "@jupyter-widgets/controls",
          "model_name": "HBoxModel",
          "model_module_version": "1.5.0",
          "state": {
            "_dom_classes": [],
            "_model_module": "@jupyter-widgets/controls",
            "_model_module_version": "1.5.0",
            "_model_name": "HBoxModel",
            "_view_count": null,
            "_view_module": "@jupyter-widgets/controls",
            "_view_module_version": "1.5.0",
            "_view_name": "HBoxView",
            "box_style": "",
            "children": [
              "IPY_MODEL_6276b39ed75c48d5ae3a67f1746f8561",
              "IPY_MODEL_0f2389f0864348a8a0153dda5a0e5512",
              "IPY_MODEL_be185bdff69a41ad90a5103c484aac7f"
            ],
            "layout": "IPY_MODEL_94f8b7877b47410ba4797cc76e31c66d"
          }
        },
        "6276b39ed75c48d5ae3a67f1746f8561": {
          "model_module": "@jupyter-widgets/controls",
          "model_name": "HTMLModel",
          "model_module_version": "1.5.0",
          "state": {
            "_dom_classes": [],
            "_model_module": "@jupyter-widgets/controls",
            "_model_module_version": "1.5.0",
            "_model_name": "HTMLModel",
            "_view_count": null,
            "_view_module": "@jupyter-widgets/controls",
            "_view_module_version": "1.5.0",
            "_view_name": "HTMLView",
            "description": "",
            "description_tooltip": null,
            "layout": "IPY_MODEL_b3a5501bcba54a6bb3fc99ed254086b1",
            "placeholder": "​",
            "style": "IPY_MODEL_a5220af8e09642df92c69a50deb0195c",
            "value": "100%"
          }
        },
        "0f2389f0864348a8a0153dda5a0e5512": {
          "model_module": "@jupyter-widgets/controls",
          "model_name": "FloatProgressModel",
          "model_module_version": "1.5.0",
          "state": {
            "_dom_classes": [],
            "_model_module": "@jupyter-widgets/controls",
            "_model_module_version": "1.5.0",
            "_model_name": "FloatProgressModel",
            "_view_count": null,
            "_view_module": "@jupyter-widgets/controls",
            "_view_module_version": "1.5.0",
            "_view_name": "ProgressView",
            "bar_style": "success",
            "description": "",
            "description_tooltip": null,
            "layout": "IPY_MODEL_d7fafe4a81b44186a52cdfe5411b342b",
            "max": 8,
            "min": 0,
            "orientation": "horizontal",
            "style": "IPY_MODEL_7f3c87f75f8e49c4a1fc055668c96773",
            "value": 8
          }
        },
        "be185bdff69a41ad90a5103c484aac7f": {
          "model_module": "@jupyter-widgets/controls",
          "model_name": "HTMLModel",
          "model_module_version": "1.5.0",
          "state": {
            "_dom_classes": [],
            "_model_module": "@jupyter-widgets/controls",
            "_model_module_version": "1.5.0",
            "_model_name": "HTMLModel",
            "_view_count": null,
            "_view_module": "@jupyter-widgets/controls",
            "_view_module_version": "1.5.0",
            "_view_name": "HTMLView",
            "description": "",
            "description_tooltip": null,
            "layout": "IPY_MODEL_d4b9920710ed432b8e2bb8bf9b40ad05",
            "placeholder": "​",
            "style": "IPY_MODEL_67a626abfb974349ac736a66fd7eddca",
            "value": " 8/8 [1:04:19&lt;00:00, 589.42s/it]"
          }
        },
        "94f8b7877b47410ba4797cc76e31c66d": {
          "model_module": "@jupyter-widgets/base",
          "model_name": "LayoutModel",
          "model_module_version": "1.2.0",
          "state": {
            "_model_module": "@jupyter-widgets/base",
            "_model_module_version": "1.2.0",
            "_model_name": "LayoutModel",
            "_view_count": null,
            "_view_module": "@jupyter-widgets/base",
            "_view_module_version": "1.2.0",
            "_view_name": "LayoutView",
            "align_content": null,
            "align_items": null,
            "align_self": null,
            "border": null,
            "bottom": null,
            "display": null,
            "flex": null,
            "flex_flow": null,
            "grid_area": null,
            "grid_auto_columns": null,
            "grid_auto_flow": null,
            "grid_auto_rows": null,
            "grid_column": null,
            "grid_gap": null,
            "grid_row": null,
            "grid_template_areas": null,
            "grid_template_columns": null,
            "grid_template_rows": null,
            "height": null,
            "justify_content": null,
            "justify_items": null,
            "left": null,
            "margin": null,
            "max_height": null,
            "max_width": null,
            "min_height": null,
            "min_width": null,
            "object_fit": null,
            "object_position": null,
            "order": null,
            "overflow": null,
            "overflow_x": null,
            "overflow_y": null,
            "padding": null,
            "right": null,
            "top": null,
            "visibility": null,
            "width": null
          }
        },
        "b3a5501bcba54a6bb3fc99ed254086b1": {
          "model_module": "@jupyter-widgets/base",
          "model_name": "LayoutModel",
          "model_module_version": "1.2.0",
          "state": {
            "_model_module": "@jupyter-widgets/base",
            "_model_module_version": "1.2.0",
            "_model_name": "LayoutModel",
            "_view_count": null,
            "_view_module": "@jupyter-widgets/base",
            "_view_module_version": "1.2.0",
            "_view_name": "LayoutView",
            "align_content": null,
            "align_items": null,
            "align_self": null,
            "border": null,
            "bottom": null,
            "display": null,
            "flex": null,
            "flex_flow": null,
            "grid_area": null,
            "grid_auto_columns": null,
            "grid_auto_flow": null,
            "grid_auto_rows": null,
            "grid_column": null,
            "grid_gap": null,
            "grid_row": null,
            "grid_template_areas": null,
            "grid_template_columns": null,
            "grid_template_rows": null,
            "height": null,
            "justify_content": null,
            "justify_items": null,
            "left": null,
            "margin": null,
            "max_height": null,
            "max_width": null,
            "min_height": null,
            "min_width": null,
            "object_fit": null,
            "object_position": null,
            "order": null,
            "overflow": null,
            "overflow_x": null,
            "overflow_y": null,
            "padding": null,
            "right": null,
            "top": null,
            "visibility": null,
            "width": null
          }
        },
        "a5220af8e09642df92c69a50deb0195c": {
          "model_module": "@jupyter-widgets/controls",
          "model_name": "DescriptionStyleModel",
          "model_module_version": "1.5.0",
          "state": {
            "_model_module": "@jupyter-widgets/controls",
            "_model_module_version": "1.5.0",
            "_model_name": "DescriptionStyleModel",
            "_view_count": null,
            "_view_module": "@jupyter-widgets/base",
            "_view_module_version": "1.2.0",
            "_view_name": "StyleView",
            "description_width": ""
          }
        },
        "d7fafe4a81b44186a52cdfe5411b342b": {
          "model_module": "@jupyter-widgets/base",
          "model_name": "LayoutModel",
          "model_module_version": "1.2.0",
          "state": {
            "_model_module": "@jupyter-widgets/base",
            "_model_module_version": "1.2.0",
            "_model_name": "LayoutModel",
            "_view_count": null,
            "_view_module": "@jupyter-widgets/base",
            "_view_module_version": "1.2.0",
            "_view_name": "LayoutView",
            "align_content": null,
            "align_items": null,
            "align_self": null,
            "border": null,
            "bottom": null,
            "display": null,
            "flex": null,
            "flex_flow": null,
            "grid_area": null,
            "grid_auto_columns": null,
            "grid_auto_flow": null,
            "grid_auto_rows": null,
            "grid_column": null,
            "grid_gap": null,
            "grid_row": null,
            "grid_template_areas": null,
            "grid_template_columns": null,
            "grid_template_rows": null,
            "height": null,
            "justify_content": null,
            "justify_items": null,
            "left": null,
            "margin": null,
            "max_height": null,
            "max_width": null,
            "min_height": null,
            "min_width": null,
            "object_fit": null,
            "object_position": null,
            "order": null,
            "overflow": null,
            "overflow_x": null,
            "overflow_y": null,
            "padding": null,
            "right": null,
            "top": null,
            "visibility": null,
            "width": null
          }
        },
        "7f3c87f75f8e49c4a1fc055668c96773": {
          "model_module": "@jupyter-widgets/controls",
          "model_name": "ProgressStyleModel",
          "model_module_version": "1.5.0",
          "state": {
            "_model_module": "@jupyter-widgets/controls",
            "_model_module_version": "1.5.0",
            "_model_name": "ProgressStyleModel",
            "_view_count": null,
            "_view_module": "@jupyter-widgets/base",
            "_view_module_version": "1.2.0",
            "_view_name": "StyleView",
            "bar_color": null,
            "description_width": ""
          }
        },
        "d4b9920710ed432b8e2bb8bf9b40ad05": {
          "model_module": "@jupyter-widgets/base",
          "model_name": "LayoutModel",
          "model_module_version": "1.2.0",
          "state": {
            "_model_module": "@jupyter-widgets/base",
            "_model_module_version": "1.2.0",
            "_model_name": "LayoutModel",
            "_view_count": null,
            "_view_module": "@jupyter-widgets/base",
            "_view_module_version": "1.2.0",
            "_view_name": "LayoutView",
            "align_content": null,
            "align_items": null,
            "align_self": null,
            "border": null,
            "bottom": null,
            "display": null,
            "flex": null,
            "flex_flow": null,
            "grid_area": null,
            "grid_auto_columns": null,
            "grid_auto_flow": null,
            "grid_auto_rows": null,
            "grid_column": null,
            "grid_gap": null,
            "grid_row": null,
            "grid_template_areas": null,
            "grid_template_columns": null,
            "grid_template_rows": null,
            "height": null,
            "justify_content": null,
            "justify_items": null,
            "left": null,
            "margin": null,
            "max_height": null,
            "max_width": null,
            "min_height": null,
            "min_width": null,
            "object_fit": null,
            "object_position": null,
            "order": null,
            "overflow": null,
            "overflow_x": null,
            "overflow_y": null,
            "padding": null,
            "right": null,
            "top": null,
            "visibility": null,
            "width": null
          }
        },
        "67a626abfb974349ac736a66fd7eddca": {
          "model_module": "@jupyter-widgets/controls",
          "model_name": "DescriptionStyleModel",
          "model_module_version": "1.5.0",
          "state": {
            "_model_module": "@jupyter-widgets/controls",
            "_model_module_version": "1.5.0",
            "_model_name": "DescriptionStyleModel",
            "_view_count": null,
            "_view_module": "@jupyter-widgets/base",
            "_view_module_version": "1.2.0",
            "_view_name": "StyleView",
            "description_width": ""
          }
        },
        "d11d1f3df0414c238d414510fd716e31": {
          "model_module": "@jupyter-widgets/controls",
          "model_name": "HBoxModel",
          "model_module_version": "1.5.0",
          "state": {
            "_dom_classes": [],
            "_model_module": "@jupyter-widgets/controls",
            "_model_module_version": "1.5.0",
            "_model_name": "HBoxModel",
            "_view_count": null,
            "_view_module": "@jupyter-widgets/controls",
            "_view_module_version": "1.5.0",
            "_view_name": "HBoxView",
            "box_style": "",
            "children": [
              "IPY_MODEL_603c2db8258b4aa0b3919538793dd440",
              "IPY_MODEL_946e494b6d1f48c0a479c2e05ca6e462",
              "IPY_MODEL_c9b132bcca2b42b0bf855f5df3bb0799"
            ],
            "layout": "IPY_MODEL_46deb55bf25549a89296de0ec5fac7be"
          }
        },
        "603c2db8258b4aa0b3919538793dd440": {
          "model_module": "@jupyter-widgets/controls",
          "model_name": "HTMLModel",
          "model_module_version": "1.5.0",
          "state": {
            "_dom_classes": [],
            "_model_module": "@jupyter-widgets/controls",
            "_model_module_version": "1.5.0",
            "_model_name": "HTMLModel",
            "_view_count": null,
            "_view_module": "@jupyter-widgets/controls",
            "_view_module_version": "1.5.0",
            "_view_name": "HTMLView",
            "description": "",
            "description_tooltip": null,
            "layout": "IPY_MODEL_734ee536dfd14f6eaef8bd65dcd02d23",
            "placeholder": "​",
            "style": "IPY_MODEL_578c85b8c0574f2ca775ef461cd62a01",
            "value": "100%"
          }
        },
        "946e494b6d1f48c0a479c2e05ca6e462": {
          "model_module": "@jupyter-widgets/controls",
          "model_name": "FloatProgressModel",
          "model_module_version": "1.5.0",
          "state": {
            "_dom_classes": [],
            "_model_module": "@jupyter-widgets/controls",
            "_model_module_version": "1.5.0",
            "_model_name": "FloatProgressModel",
            "_view_count": null,
            "_view_module": "@jupyter-widgets/controls",
            "_view_module_version": "1.5.0",
            "_view_name": "ProgressView",
            "bar_style": "success",
            "description": "",
            "description_tooltip": null,
            "layout": "IPY_MODEL_93c92449b8fc4196898b09725cc60bf9",
            "max": 11,
            "min": 0,
            "orientation": "horizontal",
            "style": "IPY_MODEL_3a8f098e5b264b349669e88951577930",
            "value": 11
          }
        },
        "c9b132bcca2b42b0bf855f5df3bb0799": {
          "model_module": "@jupyter-widgets/controls",
          "model_name": "HTMLModel",
          "model_module_version": "1.5.0",
          "state": {
            "_dom_classes": [],
            "_model_module": "@jupyter-widgets/controls",
            "_model_module_version": "1.5.0",
            "_model_name": "HTMLModel",
            "_view_count": null,
            "_view_module": "@jupyter-widgets/controls",
            "_view_module_version": "1.5.0",
            "_view_name": "HTMLView",
            "description": "",
            "description_tooltip": null,
            "layout": "IPY_MODEL_2fd34662efe046a485caa63b4bc3769f",
            "placeholder": "​",
            "style": "IPY_MODEL_abee89262a804943bfbad4b6fc80cc9a",
            "value": " 11/11 [1:40:56&lt;00:00, 629.13s/it]"
          }
        },
        "46deb55bf25549a89296de0ec5fac7be": {
          "model_module": "@jupyter-widgets/base",
          "model_name": "LayoutModel",
          "model_module_version": "1.2.0",
          "state": {
            "_model_module": "@jupyter-widgets/base",
            "_model_module_version": "1.2.0",
            "_model_name": "LayoutModel",
            "_view_count": null,
            "_view_module": "@jupyter-widgets/base",
            "_view_module_version": "1.2.0",
            "_view_name": "LayoutView",
            "align_content": null,
            "align_items": null,
            "align_self": null,
            "border": null,
            "bottom": null,
            "display": null,
            "flex": null,
            "flex_flow": null,
            "grid_area": null,
            "grid_auto_columns": null,
            "grid_auto_flow": null,
            "grid_auto_rows": null,
            "grid_column": null,
            "grid_gap": null,
            "grid_row": null,
            "grid_template_areas": null,
            "grid_template_columns": null,
            "grid_template_rows": null,
            "height": null,
            "justify_content": null,
            "justify_items": null,
            "left": null,
            "margin": null,
            "max_height": null,
            "max_width": null,
            "min_height": null,
            "min_width": null,
            "object_fit": null,
            "object_position": null,
            "order": null,
            "overflow": null,
            "overflow_x": null,
            "overflow_y": null,
            "padding": null,
            "right": null,
            "top": null,
            "visibility": null,
            "width": null
          }
        },
        "734ee536dfd14f6eaef8bd65dcd02d23": {
          "model_module": "@jupyter-widgets/base",
          "model_name": "LayoutModel",
          "model_module_version": "1.2.0",
          "state": {
            "_model_module": "@jupyter-widgets/base",
            "_model_module_version": "1.2.0",
            "_model_name": "LayoutModel",
            "_view_count": null,
            "_view_module": "@jupyter-widgets/base",
            "_view_module_version": "1.2.0",
            "_view_name": "LayoutView",
            "align_content": null,
            "align_items": null,
            "align_self": null,
            "border": null,
            "bottom": null,
            "display": null,
            "flex": null,
            "flex_flow": null,
            "grid_area": null,
            "grid_auto_columns": null,
            "grid_auto_flow": null,
            "grid_auto_rows": null,
            "grid_column": null,
            "grid_gap": null,
            "grid_row": null,
            "grid_template_areas": null,
            "grid_template_columns": null,
            "grid_template_rows": null,
            "height": null,
            "justify_content": null,
            "justify_items": null,
            "left": null,
            "margin": null,
            "max_height": null,
            "max_width": null,
            "min_height": null,
            "min_width": null,
            "object_fit": null,
            "object_position": null,
            "order": null,
            "overflow": null,
            "overflow_x": null,
            "overflow_y": null,
            "padding": null,
            "right": null,
            "top": null,
            "visibility": null,
            "width": null
          }
        },
        "578c85b8c0574f2ca775ef461cd62a01": {
          "model_module": "@jupyter-widgets/controls",
          "model_name": "DescriptionStyleModel",
          "model_module_version": "1.5.0",
          "state": {
            "_model_module": "@jupyter-widgets/controls",
            "_model_module_version": "1.5.0",
            "_model_name": "DescriptionStyleModel",
            "_view_count": null,
            "_view_module": "@jupyter-widgets/base",
            "_view_module_version": "1.2.0",
            "_view_name": "StyleView",
            "description_width": ""
          }
        },
        "93c92449b8fc4196898b09725cc60bf9": {
          "model_module": "@jupyter-widgets/base",
          "model_name": "LayoutModel",
          "model_module_version": "1.2.0",
          "state": {
            "_model_module": "@jupyter-widgets/base",
            "_model_module_version": "1.2.0",
            "_model_name": "LayoutModel",
            "_view_count": null,
            "_view_module": "@jupyter-widgets/base",
            "_view_module_version": "1.2.0",
            "_view_name": "LayoutView",
            "align_content": null,
            "align_items": null,
            "align_self": null,
            "border": null,
            "bottom": null,
            "display": null,
            "flex": null,
            "flex_flow": null,
            "grid_area": null,
            "grid_auto_columns": null,
            "grid_auto_flow": null,
            "grid_auto_rows": null,
            "grid_column": null,
            "grid_gap": null,
            "grid_row": null,
            "grid_template_areas": null,
            "grid_template_columns": null,
            "grid_template_rows": null,
            "height": null,
            "justify_content": null,
            "justify_items": null,
            "left": null,
            "margin": null,
            "max_height": null,
            "max_width": null,
            "min_height": null,
            "min_width": null,
            "object_fit": null,
            "object_position": null,
            "order": null,
            "overflow": null,
            "overflow_x": null,
            "overflow_y": null,
            "padding": null,
            "right": null,
            "top": null,
            "visibility": null,
            "width": null
          }
        },
        "3a8f098e5b264b349669e88951577930": {
          "model_module": "@jupyter-widgets/controls",
          "model_name": "ProgressStyleModel",
          "model_module_version": "1.5.0",
          "state": {
            "_model_module": "@jupyter-widgets/controls",
            "_model_module_version": "1.5.0",
            "_model_name": "ProgressStyleModel",
            "_view_count": null,
            "_view_module": "@jupyter-widgets/base",
            "_view_module_version": "1.2.0",
            "_view_name": "StyleView",
            "bar_color": null,
            "description_width": ""
          }
        },
        "2fd34662efe046a485caa63b4bc3769f": {
          "model_module": "@jupyter-widgets/base",
          "model_name": "LayoutModel",
          "model_module_version": "1.2.0",
          "state": {
            "_model_module": "@jupyter-widgets/base",
            "_model_module_version": "1.2.0",
            "_model_name": "LayoutModel",
            "_view_count": null,
            "_view_module": "@jupyter-widgets/base",
            "_view_module_version": "1.2.0",
            "_view_name": "LayoutView",
            "align_content": null,
            "align_items": null,
            "align_self": null,
            "border": null,
            "bottom": null,
            "display": null,
            "flex": null,
            "flex_flow": null,
            "grid_area": null,
            "grid_auto_columns": null,
            "grid_auto_flow": null,
            "grid_auto_rows": null,
            "grid_column": null,
            "grid_gap": null,
            "grid_row": null,
            "grid_template_areas": null,
            "grid_template_columns": null,
            "grid_template_rows": null,
            "height": null,
            "justify_content": null,
            "justify_items": null,
            "left": null,
            "margin": null,
            "max_height": null,
            "max_width": null,
            "min_height": null,
            "min_width": null,
            "object_fit": null,
            "object_position": null,
            "order": null,
            "overflow": null,
            "overflow_x": null,
            "overflow_y": null,
            "padding": null,
            "right": null,
            "top": null,
            "visibility": null,
            "width": null
          }
        },
        "abee89262a804943bfbad4b6fc80cc9a": {
          "model_module": "@jupyter-widgets/controls",
          "model_name": "DescriptionStyleModel",
          "model_module_version": "1.5.0",
          "state": {
            "_model_module": "@jupyter-widgets/controls",
            "_model_module_version": "1.5.0",
            "_model_name": "DescriptionStyleModel",
            "_view_count": null,
            "_view_module": "@jupyter-widgets/base",
            "_view_module_version": "1.2.0",
            "_view_name": "StyleView",
            "description_width": ""
          }
        },
        "ab8b9b6f0dc34497803904bd6b88bac3": {
          "model_module": "@jupyter-widgets/controls",
          "model_name": "HBoxModel",
          "model_module_version": "1.5.0",
          "state": {
            "_dom_classes": [],
            "_model_module": "@jupyter-widgets/controls",
            "_model_module_version": "1.5.0",
            "_model_name": "HBoxModel",
            "_view_count": null,
            "_view_module": "@jupyter-widgets/controls",
            "_view_module_version": "1.5.0",
            "_view_name": "HBoxView",
            "box_style": "",
            "children": [
              "IPY_MODEL_9adbf9c3becd4c60a3fcfd6abefd4667",
              "IPY_MODEL_2ecd9b996b274f16b2a2f2e8bb19cca6",
              "IPY_MODEL_04a9eb91b92e40e59b30e0639cf7f9c9"
            ],
            "layout": "IPY_MODEL_0bfa1646b5254d32ae044c0a8cc7e11f"
          }
        },
        "9adbf9c3becd4c60a3fcfd6abefd4667": {
          "model_module": "@jupyter-widgets/controls",
          "model_name": "HTMLModel",
          "model_module_version": "1.5.0",
          "state": {
            "_dom_classes": [],
            "_model_module": "@jupyter-widgets/controls",
            "_model_module_version": "1.5.0",
            "_model_name": "HTMLModel",
            "_view_count": null,
            "_view_module": "@jupyter-widgets/controls",
            "_view_module_version": "1.5.0",
            "_view_name": "HTMLView",
            "description": "",
            "description_tooltip": null,
            "layout": "IPY_MODEL_f33b68ba9b0e49c7951e646fd90fc2e0",
            "placeholder": "​",
            "style": "IPY_MODEL_cf18a4d7108742998ad4e6608a5e08a6",
            "value": "100%"
          }
        },
        "2ecd9b996b274f16b2a2f2e8bb19cca6": {
          "model_module": "@jupyter-widgets/controls",
          "model_name": "FloatProgressModel",
          "model_module_version": "1.5.0",
          "state": {
            "_dom_classes": [],
            "_model_module": "@jupyter-widgets/controls",
            "_model_module_version": "1.5.0",
            "_model_name": "FloatProgressModel",
            "_view_count": null,
            "_view_module": "@jupyter-widgets/controls",
            "_view_module_version": "1.5.0",
            "_view_name": "ProgressView",
            "bar_style": "success",
            "description": "",
            "description_tooltip": null,
            "layout": "IPY_MODEL_8823a4d29f24495dbfaceb3940106624",
            "max": 6,
            "min": 0,
            "orientation": "horizontal",
            "style": "IPY_MODEL_990f8e5291084bcaa4a446e3ddf2293f",
            "value": 6
          }
        },
        "04a9eb91b92e40e59b30e0639cf7f9c9": {
          "model_module": "@jupyter-widgets/controls",
          "model_name": "HTMLModel",
          "model_module_version": "1.5.0",
          "state": {
            "_dom_classes": [],
            "_model_module": "@jupyter-widgets/controls",
            "_model_module_version": "1.5.0",
            "_model_name": "HTMLModel",
            "_view_count": null,
            "_view_module": "@jupyter-widgets/controls",
            "_view_module_version": "1.5.0",
            "_view_name": "HTMLView",
            "description": "",
            "description_tooltip": null,
            "layout": "IPY_MODEL_bf61c20b5873431e9c4d9567dc75b669",
            "placeholder": "​",
            "style": "IPY_MODEL_1e96f2063570442ab9bcc32b8b9e9bbd",
            "value": " 6/6 [1:00:21&lt;00:00, 611.74s/it]"
          }
        },
        "0bfa1646b5254d32ae044c0a8cc7e11f": {
          "model_module": "@jupyter-widgets/base",
          "model_name": "LayoutModel",
          "model_module_version": "1.2.0",
          "state": {
            "_model_module": "@jupyter-widgets/base",
            "_model_module_version": "1.2.0",
            "_model_name": "LayoutModel",
            "_view_count": null,
            "_view_module": "@jupyter-widgets/base",
            "_view_module_version": "1.2.0",
            "_view_name": "LayoutView",
            "align_content": null,
            "align_items": null,
            "align_self": null,
            "border": null,
            "bottom": null,
            "display": null,
            "flex": null,
            "flex_flow": null,
            "grid_area": null,
            "grid_auto_columns": null,
            "grid_auto_flow": null,
            "grid_auto_rows": null,
            "grid_column": null,
            "grid_gap": null,
            "grid_row": null,
            "grid_template_areas": null,
            "grid_template_columns": null,
            "grid_template_rows": null,
            "height": null,
            "justify_content": null,
            "justify_items": null,
            "left": null,
            "margin": null,
            "max_height": null,
            "max_width": null,
            "min_height": null,
            "min_width": null,
            "object_fit": null,
            "object_position": null,
            "order": null,
            "overflow": null,
            "overflow_x": null,
            "overflow_y": null,
            "padding": null,
            "right": null,
            "top": null,
            "visibility": null,
            "width": null
          }
        },
        "f33b68ba9b0e49c7951e646fd90fc2e0": {
          "model_module": "@jupyter-widgets/base",
          "model_name": "LayoutModel",
          "model_module_version": "1.2.0",
          "state": {
            "_model_module": "@jupyter-widgets/base",
            "_model_module_version": "1.2.0",
            "_model_name": "LayoutModel",
            "_view_count": null,
            "_view_module": "@jupyter-widgets/base",
            "_view_module_version": "1.2.0",
            "_view_name": "LayoutView",
            "align_content": null,
            "align_items": null,
            "align_self": null,
            "border": null,
            "bottom": null,
            "display": null,
            "flex": null,
            "flex_flow": null,
            "grid_area": null,
            "grid_auto_columns": null,
            "grid_auto_flow": null,
            "grid_auto_rows": null,
            "grid_column": null,
            "grid_gap": null,
            "grid_row": null,
            "grid_template_areas": null,
            "grid_template_columns": null,
            "grid_template_rows": null,
            "height": null,
            "justify_content": null,
            "justify_items": null,
            "left": null,
            "margin": null,
            "max_height": null,
            "max_width": null,
            "min_height": null,
            "min_width": null,
            "object_fit": null,
            "object_position": null,
            "order": null,
            "overflow": null,
            "overflow_x": null,
            "overflow_y": null,
            "padding": null,
            "right": null,
            "top": null,
            "visibility": null,
            "width": null
          }
        },
        "cf18a4d7108742998ad4e6608a5e08a6": {
          "model_module": "@jupyter-widgets/controls",
          "model_name": "DescriptionStyleModel",
          "model_module_version": "1.5.0",
          "state": {
            "_model_module": "@jupyter-widgets/controls",
            "_model_module_version": "1.5.0",
            "_model_name": "DescriptionStyleModel",
            "_view_count": null,
            "_view_module": "@jupyter-widgets/base",
            "_view_module_version": "1.2.0",
            "_view_name": "StyleView",
            "description_width": ""
          }
        },
        "8823a4d29f24495dbfaceb3940106624": {
          "model_module": "@jupyter-widgets/base",
          "model_name": "LayoutModel",
          "model_module_version": "1.2.0",
          "state": {
            "_model_module": "@jupyter-widgets/base",
            "_model_module_version": "1.2.0",
            "_model_name": "LayoutModel",
            "_view_count": null,
            "_view_module": "@jupyter-widgets/base",
            "_view_module_version": "1.2.0",
            "_view_name": "LayoutView",
            "align_content": null,
            "align_items": null,
            "align_self": null,
            "border": null,
            "bottom": null,
            "display": null,
            "flex": null,
            "flex_flow": null,
            "grid_area": null,
            "grid_auto_columns": null,
            "grid_auto_flow": null,
            "grid_auto_rows": null,
            "grid_column": null,
            "grid_gap": null,
            "grid_row": null,
            "grid_template_areas": null,
            "grid_template_columns": null,
            "grid_template_rows": null,
            "height": null,
            "justify_content": null,
            "justify_items": null,
            "left": null,
            "margin": null,
            "max_height": null,
            "max_width": null,
            "min_height": null,
            "min_width": null,
            "object_fit": null,
            "object_position": null,
            "order": null,
            "overflow": null,
            "overflow_x": null,
            "overflow_y": null,
            "padding": null,
            "right": null,
            "top": null,
            "visibility": null,
            "width": null
          }
        },
        "990f8e5291084bcaa4a446e3ddf2293f": {
          "model_module": "@jupyter-widgets/controls",
          "model_name": "ProgressStyleModel",
          "model_module_version": "1.5.0",
          "state": {
            "_model_module": "@jupyter-widgets/controls",
            "_model_module_version": "1.5.0",
            "_model_name": "ProgressStyleModel",
            "_view_count": null,
            "_view_module": "@jupyter-widgets/base",
            "_view_module_version": "1.2.0",
            "_view_name": "StyleView",
            "bar_color": null,
            "description_width": ""
          }
        },
        "bf61c20b5873431e9c4d9567dc75b669": {
          "model_module": "@jupyter-widgets/base",
          "model_name": "LayoutModel",
          "model_module_version": "1.2.0",
          "state": {
            "_model_module": "@jupyter-widgets/base",
            "_model_module_version": "1.2.0",
            "_model_name": "LayoutModel",
            "_view_count": null,
            "_view_module": "@jupyter-widgets/base",
            "_view_module_version": "1.2.0",
            "_view_name": "LayoutView",
            "align_content": null,
            "align_items": null,
            "align_self": null,
            "border": null,
            "bottom": null,
            "display": null,
            "flex": null,
            "flex_flow": null,
            "grid_area": null,
            "grid_auto_columns": null,
            "grid_auto_flow": null,
            "grid_auto_rows": null,
            "grid_column": null,
            "grid_gap": null,
            "grid_row": null,
            "grid_template_areas": null,
            "grid_template_columns": null,
            "grid_template_rows": null,
            "height": null,
            "justify_content": null,
            "justify_items": null,
            "left": null,
            "margin": null,
            "max_height": null,
            "max_width": null,
            "min_height": null,
            "min_width": null,
            "object_fit": null,
            "object_position": null,
            "order": null,
            "overflow": null,
            "overflow_x": null,
            "overflow_y": null,
            "padding": null,
            "right": null,
            "top": null,
            "visibility": null,
            "width": null
          }
        },
        "1e96f2063570442ab9bcc32b8b9e9bbd": {
          "model_module": "@jupyter-widgets/controls",
          "model_name": "DescriptionStyleModel",
          "model_module_version": "1.5.0",
          "state": {
            "_model_module": "@jupyter-widgets/controls",
            "_model_module_version": "1.5.0",
            "_model_name": "DescriptionStyleModel",
            "_view_count": null,
            "_view_module": "@jupyter-widgets/base",
            "_view_module_version": "1.2.0",
            "_view_name": "StyleView",
            "description_width": ""
          }
        },
        "afb565e9d4f04e36b1c0fa5b3b0b791f": {
          "model_module": "@jupyter-widgets/controls",
          "model_name": "HBoxModel",
          "model_module_version": "1.5.0",
          "state": {
            "_dom_classes": [],
            "_model_module": "@jupyter-widgets/controls",
            "_model_module_version": "1.5.0",
            "_model_name": "HBoxModel",
            "_view_count": null,
            "_view_module": "@jupyter-widgets/controls",
            "_view_module_version": "1.5.0",
            "_view_name": "HBoxView",
            "box_style": "",
            "children": [
              "IPY_MODEL_92330eed489744eabf5fa68c6807bfd9",
              "IPY_MODEL_c7ddefca8b1b4eb19327ba63a7eaa990",
              "IPY_MODEL_61d50b897a9747c190109343eb38fc0c"
            ],
            "layout": "IPY_MODEL_7fd2ced669044ccc85ec2e4c5e87b26d"
          }
        },
        "92330eed489744eabf5fa68c6807bfd9": {
          "model_module": "@jupyter-widgets/controls",
          "model_name": "HTMLModel",
          "model_module_version": "1.5.0",
          "state": {
            "_dom_classes": [],
            "_model_module": "@jupyter-widgets/controls",
            "_model_module_version": "1.5.0",
            "_model_name": "HTMLModel",
            "_view_count": null,
            "_view_module": "@jupyter-widgets/controls",
            "_view_module_version": "1.5.0",
            "_view_name": "HTMLView",
            "description": "",
            "description_tooltip": null,
            "layout": "IPY_MODEL_128b48ebdcbe48aa971e6a42650e7960",
            "placeholder": "​",
            "style": "IPY_MODEL_13058009e8ea4977a0c9956b95457cd7",
            "value": "100%"
          }
        },
        "c7ddefca8b1b4eb19327ba63a7eaa990": {
          "model_module": "@jupyter-widgets/controls",
          "model_name": "FloatProgressModel",
          "model_module_version": "1.5.0",
          "state": {
            "_dom_classes": [],
            "_model_module": "@jupyter-widgets/controls",
            "_model_module_version": "1.5.0",
            "_model_name": "FloatProgressModel",
            "_view_count": null,
            "_view_module": "@jupyter-widgets/controls",
            "_view_module_version": "1.5.0",
            "_view_name": "ProgressView",
            "bar_style": "success",
            "description": "",
            "description_tooltip": null,
            "layout": "IPY_MODEL_7ae4e69ee9be4bcabd2be7aae4d5f4db",
            "max": 10,
            "min": 0,
            "orientation": "horizontal",
            "style": "IPY_MODEL_6c90ef3a0c7a4ecc8a7b198e2200d679",
            "value": 10
          }
        },
        "61d50b897a9747c190109343eb38fc0c": {
          "model_module": "@jupyter-widgets/controls",
          "model_name": "HTMLModel",
          "model_module_version": "1.5.0",
          "state": {
            "_dom_classes": [],
            "_model_module": "@jupyter-widgets/controls",
            "_model_module_version": "1.5.0",
            "_model_name": "HTMLModel",
            "_view_count": null,
            "_view_module": "@jupyter-widgets/controls",
            "_view_module_version": "1.5.0",
            "_view_name": "HTMLView",
            "description": "",
            "description_tooltip": null,
            "layout": "IPY_MODEL_bf40f489a6d5463c9220b16147826cee",
            "placeholder": "​",
            "style": "IPY_MODEL_7d0790cec25345de883cc716df5d3c10",
            "value": " 10/10 [1:02:39&lt;00:00, 478.31s/it]"
          }
        },
        "7fd2ced669044ccc85ec2e4c5e87b26d": {
          "model_module": "@jupyter-widgets/base",
          "model_name": "LayoutModel",
          "model_module_version": "1.2.0",
          "state": {
            "_model_module": "@jupyter-widgets/base",
            "_model_module_version": "1.2.0",
            "_model_name": "LayoutModel",
            "_view_count": null,
            "_view_module": "@jupyter-widgets/base",
            "_view_module_version": "1.2.0",
            "_view_name": "LayoutView",
            "align_content": null,
            "align_items": null,
            "align_self": null,
            "border": null,
            "bottom": null,
            "display": null,
            "flex": null,
            "flex_flow": null,
            "grid_area": null,
            "grid_auto_columns": null,
            "grid_auto_flow": null,
            "grid_auto_rows": null,
            "grid_column": null,
            "grid_gap": null,
            "grid_row": null,
            "grid_template_areas": null,
            "grid_template_columns": null,
            "grid_template_rows": null,
            "height": null,
            "justify_content": null,
            "justify_items": null,
            "left": null,
            "margin": null,
            "max_height": null,
            "max_width": null,
            "min_height": null,
            "min_width": null,
            "object_fit": null,
            "object_position": null,
            "order": null,
            "overflow": null,
            "overflow_x": null,
            "overflow_y": null,
            "padding": null,
            "right": null,
            "top": null,
            "visibility": null,
            "width": null
          }
        },
        "128b48ebdcbe48aa971e6a42650e7960": {
          "model_module": "@jupyter-widgets/base",
          "model_name": "LayoutModel",
          "model_module_version": "1.2.0",
          "state": {
            "_model_module": "@jupyter-widgets/base",
            "_model_module_version": "1.2.0",
            "_model_name": "LayoutModel",
            "_view_count": null,
            "_view_module": "@jupyter-widgets/base",
            "_view_module_version": "1.2.0",
            "_view_name": "LayoutView",
            "align_content": null,
            "align_items": null,
            "align_self": null,
            "border": null,
            "bottom": null,
            "display": null,
            "flex": null,
            "flex_flow": null,
            "grid_area": null,
            "grid_auto_columns": null,
            "grid_auto_flow": null,
            "grid_auto_rows": null,
            "grid_column": null,
            "grid_gap": null,
            "grid_row": null,
            "grid_template_areas": null,
            "grid_template_columns": null,
            "grid_template_rows": null,
            "height": null,
            "justify_content": null,
            "justify_items": null,
            "left": null,
            "margin": null,
            "max_height": null,
            "max_width": null,
            "min_height": null,
            "min_width": null,
            "object_fit": null,
            "object_position": null,
            "order": null,
            "overflow": null,
            "overflow_x": null,
            "overflow_y": null,
            "padding": null,
            "right": null,
            "top": null,
            "visibility": null,
            "width": null
          }
        },
        "13058009e8ea4977a0c9956b95457cd7": {
          "model_module": "@jupyter-widgets/controls",
          "model_name": "DescriptionStyleModel",
          "model_module_version": "1.5.0",
          "state": {
            "_model_module": "@jupyter-widgets/controls",
            "_model_module_version": "1.5.0",
            "_model_name": "DescriptionStyleModel",
            "_view_count": null,
            "_view_module": "@jupyter-widgets/base",
            "_view_module_version": "1.2.0",
            "_view_name": "StyleView",
            "description_width": ""
          }
        },
        "7ae4e69ee9be4bcabd2be7aae4d5f4db": {
          "model_module": "@jupyter-widgets/base",
          "model_name": "LayoutModel",
          "model_module_version": "1.2.0",
          "state": {
            "_model_module": "@jupyter-widgets/base",
            "_model_module_version": "1.2.0",
            "_model_name": "LayoutModel",
            "_view_count": null,
            "_view_module": "@jupyter-widgets/base",
            "_view_module_version": "1.2.0",
            "_view_name": "LayoutView",
            "align_content": null,
            "align_items": null,
            "align_self": null,
            "border": null,
            "bottom": null,
            "display": null,
            "flex": null,
            "flex_flow": null,
            "grid_area": null,
            "grid_auto_columns": null,
            "grid_auto_flow": null,
            "grid_auto_rows": null,
            "grid_column": null,
            "grid_gap": null,
            "grid_row": null,
            "grid_template_areas": null,
            "grid_template_columns": null,
            "grid_template_rows": null,
            "height": null,
            "justify_content": null,
            "justify_items": null,
            "left": null,
            "margin": null,
            "max_height": null,
            "max_width": null,
            "min_height": null,
            "min_width": null,
            "object_fit": null,
            "object_position": null,
            "order": null,
            "overflow": null,
            "overflow_x": null,
            "overflow_y": null,
            "padding": null,
            "right": null,
            "top": null,
            "visibility": null,
            "width": null
          }
        },
        "6c90ef3a0c7a4ecc8a7b198e2200d679": {
          "model_module": "@jupyter-widgets/controls",
          "model_name": "ProgressStyleModel",
          "model_module_version": "1.5.0",
          "state": {
            "_model_module": "@jupyter-widgets/controls",
            "_model_module_version": "1.5.0",
            "_model_name": "ProgressStyleModel",
            "_view_count": null,
            "_view_module": "@jupyter-widgets/base",
            "_view_module_version": "1.2.0",
            "_view_name": "StyleView",
            "bar_color": null,
            "description_width": ""
          }
        },
        "bf40f489a6d5463c9220b16147826cee": {
          "model_module": "@jupyter-widgets/base",
          "model_name": "LayoutModel",
          "model_module_version": "1.2.0",
          "state": {
            "_model_module": "@jupyter-widgets/base",
            "_model_module_version": "1.2.0",
            "_model_name": "LayoutModel",
            "_view_count": null,
            "_view_module": "@jupyter-widgets/base",
            "_view_module_version": "1.2.0",
            "_view_name": "LayoutView",
            "align_content": null,
            "align_items": null,
            "align_self": null,
            "border": null,
            "bottom": null,
            "display": null,
            "flex": null,
            "flex_flow": null,
            "grid_area": null,
            "grid_auto_columns": null,
            "grid_auto_flow": null,
            "grid_auto_rows": null,
            "grid_column": null,
            "grid_gap": null,
            "grid_row": null,
            "grid_template_areas": null,
            "grid_template_columns": null,
            "grid_template_rows": null,
            "height": null,
            "justify_content": null,
            "justify_items": null,
            "left": null,
            "margin": null,
            "max_height": null,
            "max_width": null,
            "min_height": null,
            "min_width": null,
            "object_fit": null,
            "object_position": null,
            "order": null,
            "overflow": null,
            "overflow_x": null,
            "overflow_y": null,
            "padding": null,
            "right": null,
            "top": null,
            "visibility": null,
            "width": null
          }
        },
        "7d0790cec25345de883cc716df5d3c10": {
          "model_module": "@jupyter-widgets/controls",
          "model_name": "DescriptionStyleModel",
          "model_module_version": "1.5.0",
          "state": {
            "_model_module": "@jupyter-widgets/controls",
            "_model_module_version": "1.5.0",
            "_model_name": "DescriptionStyleModel",
            "_view_count": null,
            "_view_module": "@jupyter-widgets/base",
            "_view_module_version": "1.2.0",
            "_view_name": "StyleView",
            "description_width": ""
          }
        },
        "0b77d61198194d36b96498f39b9a93fe": {
          "model_module": "@jupyter-widgets/controls",
          "model_name": "HBoxModel",
          "model_module_version": "1.5.0",
          "state": {
            "_dom_classes": [],
            "_model_module": "@jupyter-widgets/controls",
            "_model_module_version": "1.5.0",
            "_model_name": "HBoxModel",
            "_view_count": null,
            "_view_module": "@jupyter-widgets/controls",
            "_view_module_version": "1.5.0",
            "_view_name": "HBoxView",
            "box_style": "",
            "children": [
              "IPY_MODEL_57a3ea64da3143939818e10f146ee51a",
              "IPY_MODEL_9d6c1bd8c3394e11b6fe1595c98069fe",
              "IPY_MODEL_cb6f6da6779f470985aaf3327d94553a"
            ],
            "layout": "IPY_MODEL_fa739c1777f3496b815225a7bf07329e"
          }
        },
        "57a3ea64da3143939818e10f146ee51a": {
          "model_module": "@jupyter-widgets/controls",
          "model_name": "HTMLModel",
          "model_module_version": "1.5.0",
          "state": {
            "_dom_classes": [],
            "_model_module": "@jupyter-widgets/controls",
            "_model_module_version": "1.5.0",
            "_model_name": "HTMLModel",
            "_view_count": null,
            "_view_module": "@jupyter-widgets/controls",
            "_view_module_version": "1.5.0",
            "_view_name": "HTMLView",
            "description": "",
            "description_tooltip": null,
            "layout": "IPY_MODEL_cfa6c48865fd4e7ebdc21a773db16a2d",
            "placeholder": "​",
            "style": "IPY_MODEL_9e6dc72b3c3a4f50aa93d33ebcf35afd",
            "value": "100%"
          }
        },
        "9d6c1bd8c3394e11b6fe1595c98069fe": {
          "model_module": "@jupyter-widgets/controls",
          "model_name": "FloatProgressModel",
          "model_module_version": "1.5.0",
          "state": {
            "_dom_classes": [],
            "_model_module": "@jupyter-widgets/controls",
            "_model_module_version": "1.5.0",
            "_model_name": "FloatProgressModel",
            "_view_count": null,
            "_view_module": "@jupyter-widgets/controls",
            "_view_module_version": "1.5.0",
            "_view_name": "ProgressView",
            "bar_style": "success",
            "description": "",
            "description_tooltip": null,
            "layout": "IPY_MODEL_b00badd682d94003802391d978e4ff83",
            "max": 8,
            "min": 0,
            "orientation": "horizontal",
            "style": "IPY_MODEL_30edfa9e8f7d4ace85cd867588694af4",
            "value": 8
          }
        },
        "cb6f6da6779f470985aaf3327d94553a": {
          "model_module": "@jupyter-widgets/controls",
          "model_name": "HTMLModel",
          "model_module_version": "1.5.0",
          "state": {
            "_dom_classes": [],
            "_model_module": "@jupyter-widgets/controls",
            "_model_module_version": "1.5.0",
            "_model_name": "HTMLModel",
            "_view_count": null,
            "_view_module": "@jupyter-widgets/controls",
            "_view_module_version": "1.5.0",
            "_view_name": "HTMLView",
            "description": "",
            "description_tooltip": null,
            "layout": "IPY_MODEL_31e54aa2403f402d992e6f510726cf57",
            "placeholder": "​",
            "style": "IPY_MODEL_d7ea0fd2fbd4420eb474b6d28e54eb2d",
            "value": " 8/8 [48:25&lt;00:00, 345.28s/it]"
          }
        },
        "fa739c1777f3496b815225a7bf07329e": {
          "model_module": "@jupyter-widgets/base",
          "model_name": "LayoutModel",
          "model_module_version": "1.2.0",
          "state": {
            "_model_module": "@jupyter-widgets/base",
            "_model_module_version": "1.2.0",
            "_model_name": "LayoutModel",
            "_view_count": null,
            "_view_module": "@jupyter-widgets/base",
            "_view_module_version": "1.2.0",
            "_view_name": "LayoutView",
            "align_content": null,
            "align_items": null,
            "align_self": null,
            "border": null,
            "bottom": null,
            "display": null,
            "flex": null,
            "flex_flow": null,
            "grid_area": null,
            "grid_auto_columns": null,
            "grid_auto_flow": null,
            "grid_auto_rows": null,
            "grid_column": null,
            "grid_gap": null,
            "grid_row": null,
            "grid_template_areas": null,
            "grid_template_columns": null,
            "grid_template_rows": null,
            "height": null,
            "justify_content": null,
            "justify_items": null,
            "left": null,
            "margin": null,
            "max_height": null,
            "max_width": null,
            "min_height": null,
            "min_width": null,
            "object_fit": null,
            "object_position": null,
            "order": null,
            "overflow": null,
            "overflow_x": null,
            "overflow_y": null,
            "padding": null,
            "right": null,
            "top": null,
            "visibility": null,
            "width": null
          }
        },
        "cfa6c48865fd4e7ebdc21a773db16a2d": {
          "model_module": "@jupyter-widgets/base",
          "model_name": "LayoutModel",
          "model_module_version": "1.2.0",
          "state": {
            "_model_module": "@jupyter-widgets/base",
            "_model_module_version": "1.2.0",
            "_model_name": "LayoutModel",
            "_view_count": null,
            "_view_module": "@jupyter-widgets/base",
            "_view_module_version": "1.2.0",
            "_view_name": "LayoutView",
            "align_content": null,
            "align_items": null,
            "align_self": null,
            "border": null,
            "bottom": null,
            "display": null,
            "flex": null,
            "flex_flow": null,
            "grid_area": null,
            "grid_auto_columns": null,
            "grid_auto_flow": null,
            "grid_auto_rows": null,
            "grid_column": null,
            "grid_gap": null,
            "grid_row": null,
            "grid_template_areas": null,
            "grid_template_columns": null,
            "grid_template_rows": null,
            "height": null,
            "justify_content": null,
            "justify_items": null,
            "left": null,
            "margin": null,
            "max_height": null,
            "max_width": null,
            "min_height": null,
            "min_width": null,
            "object_fit": null,
            "object_position": null,
            "order": null,
            "overflow": null,
            "overflow_x": null,
            "overflow_y": null,
            "padding": null,
            "right": null,
            "top": null,
            "visibility": null,
            "width": null
          }
        },
        "9e6dc72b3c3a4f50aa93d33ebcf35afd": {
          "model_module": "@jupyter-widgets/controls",
          "model_name": "DescriptionStyleModel",
          "model_module_version": "1.5.0",
          "state": {
            "_model_module": "@jupyter-widgets/controls",
            "_model_module_version": "1.5.0",
            "_model_name": "DescriptionStyleModel",
            "_view_count": null,
            "_view_module": "@jupyter-widgets/base",
            "_view_module_version": "1.2.0",
            "_view_name": "StyleView",
            "description_width": ""
          }
        },
        "b00badd682d94003802391d978e4ff83": {
          "model_module": "@jupyter-widgets/base",
          "model_name": "LayoutModel",
          "model_module_version": "1.2.0",
          "state": {
            "_model_module": "@jupyter-widgets/base",
            "_model_module_version": "1.2.0",
            "_model_name": "LayoutModel",
            "_view_count": null,
            "_view_module": "@jupyter-widgets/base",
            "_view_module_version": "1.2.0",
            "_view_name": "LayoutView",
            "align_content": null,
            "align_items": null,
            "align_self": null,
            "border": null,
            "bottom": null,
            "display": null,
            "flex": null,
            "flex_flow": null,
            "grid_area": null,
            "grid_auto_columns": null,
            "grid_auto_flow": null,
            "grid_auto_rows": null,
            "grid_column": null,
            "grid_gap": null,
            "grid_row": null,
            "grid_template_areas": null,
            "grid_template_columns": null,
            "grid_template_rows": null,
            "height": null,
            "justify_content": null,
            "justify_items": null,
            "left": null,
            "margin": null,
            "max_height": null,
            "max_width": null,
            "min_height": null,
            "min_width": null,
            "object_fit": null,
            "object_position": null,
            "order": null,
            "overflow": null,
            "overflow_x": null,
            "overflow_y": null,
            "padding": null,
            "right": null,
            "top": null,
            "visibility": null,
            "width": null
          }
        },
        "30edfa9e8f7d4ace85cd867588694af4": {
          "model_module": "@jupyter-widgets/controls",
          "model_name": "ProgressStyleModel",
          "model_module_version": "1.5.0",
          "state": {
            "_model_module": "@jupyter-widgets/controls",
            "_model_module_version": "1.5.0",
            "_model_name": "ProgressStyleModel",
            "_view_count": null,
            "_view_module": "@jupyter-widgets/base",
            "_view_module_version": "1.2.0",
            "_view_name": "StyleView",
            "bar_color": null,
            "description_width": ""
          }
        },
        "31e54aa2403f402d992e6f510726cf57": {
          "model_module": "@jupyter-widgets/base",
          "model_name": "LayoutModel",
          "model_module_version": "1.2.0",
          "state": {
            "_model_module": "@jupyter-widgets/base",
            "_model_module_version": "1.2.0",
            "_model_name": "LayoutModel",
            "_view_count": null,
            "_view_module": "@jupyter-widgets/base",
            "_view_module_version": "1.2.0",
            "_view_name": "LayoutView",
            "align_content": null,
            "align_items": null,
            "align_self": null,
            "border": null,
            "bottom": null,
            "display": null,
            "flex": null,
            "flex_flow": null,
            "grid_area": null,
            "grid_auto_columns": null,
            "grid_auto_flow": null,
            "grid_auto_rows": null,
            "grid_column": null,
            "grid_gap": null,
            "grid_row": null,
            "grid_template_areas": null,
            "grid_template_columns": null,
            "grid_template_rows": null,
            "height": null,
            "justify_content": null,
            "justify_items": null,
            "left": null,
            "margin": null,
            "max_height": null,
            "max_width": null,
            "min_height": null,
            "min_width": null,
            "object_fit": null,
            "object_position": null,
            "order": null,
            "overflow": null,
            "overflow_x": null,
            "overflow_y": null,
            "padding": null,
            "right": null,
            "top": null,
            "visibility": null,
            "width": null
          }
        },
        "d7ea0fd2fbd4420eb474b6d28e54eb2d": {
          "model_module": "@jupyter-widgets/controls",
          "model_name": "DescriptionStyleModel",
          "model_module_version": "1.5.0",
          "state": {
            "_model_module": "@jupyter-widgets/controls",
            "_model_module_version": "1.5.0",
            "_model_name": "DescriptionStyleModel",
            "_view_count": null,
            "_view_module": "@jupyter-widgets/base",
            "_view_module_version": "1.2.0",
            "_view_name": "StyleView",
            "description_width": ""
          }
        },
        "921b95dfc4634cf58d52b5676e77ce20": {
          "model_module": "@jupyter-widgets/controls",
          "model_name": "HBoxModel",
          "model_module_version": "1.5.0",
          "state": {
            "_dom_classes": [],
            "_model_module": "@jupyter-widgets/controls",
            "_model_module_version": "1.5.0",
            "_model_name": "HBoxModel",
            "_view_count": null,
            "_view_module": "@jupyter-widgets/controls",
            "_view_module_version": "1.5.0",
            "_view_name": "HBoxView",
            "box_style": "",
            "children": [
              "IPY_MODEL_b0625cc05e664b67a83e027d0ce728bb",
              "IPY_MODEL_eb5b5fbdc73a4147aafb43c9042ae979",
              "IPY_MODEL_9d30a56ff92748b1955485052c0d2e7d"
            ],
            "layout": "IPY_MODEL_b693c0cd0242463c9e61a866ed9760bc"
          }
        },
        "b0625cc05e664b67a83e027d0ce728bb": {
          "model_module": "@jupyter-widgets/controls",
          "model_name": "HTMLModel",
          "model_module_version": "1.5.0",
          "state": {
            "_dom_classes": [],
            "_model_module": "@jupyter-widgets/controls",
            "_model_module_version": "1.5.0",
            "_model_name": "HTMLModel",
            "_view_count": null,
            "_view_module": "@jupyter-widgets/controls",
            "_view_module_version": "1.5.0",
            "_view_name": "HTMLView",
            "description": "",
            "description_tooltip": null,
            "layout": "IPY_MODEL_0f065ec8076d4783845fa3b185a63e32",
            "placeholder": "​",
            "style": "IPY_MODEL_249eddf16e304f4ba118c21cda92d65d",
            "value": "100%"
          }
        },
        "eb5b5fbdc73a4147aafb43c9042ae979": {
          "model_module": "@jupyter-widgets/controls",
          "model_name": "FloatProgressModel",
          "model_module_version": "1.5.0",
          "state": {
            "_dom_classes": [],
            "_model_module": "@jupyter-widgets/controls",
            "_model_module_version": "1.5.0",
            "_model_name": "FloatProgressModel",
            "_view_count": null,
            "_view_module": "@jupyter-widgets/controls",
            "_view_module_version": "1.5.0",
            "_view_name": "ProgressView",
            "bar_style": "success",
            "description": "",
            "description_tooltip": null,
            "layout": "IPY_MODEL_4b5ec7a9870b443289ea085c585cb5e5",
            "max": 8,
            "min": 0,
            "orientation": "horizontal",
            "style": "IPY_MODEL_2b7ef233cdaa435b96cc66860a4fc8f9",
            "value": 8
          }
        },
        "9d30a56ff92748b1955485052c0d2e7d": {
          "model_module": "@jupyter-widgets/controls",
          "model_name": "HTMLModel",
          "model_module_version": "1.5.0",
          "state": {
            "_dom_classes": [],
            "_model_module": "@jupyter-widgets/controls",
            "_model_module_version": "1.5.0",
            "_model_name": "HTMLModel",
            "_view_count": null,
            "_view_module": "@jupyter-widgets/controls",
            "_view_module_version": "1.5.0",
            "_view_name": "HTMLView",
            "description": "",
            "description_tooltip": null,
            "layout": "IPY_MODEL_be0cba13beb9490ea3d315e4fba2db86",
            "placeholder": "​",
            "style": "IPY_MODEL_58441d540e95428fa9c45ced459b5ba3",
            "value": " 8/8 [48:01&lt;00:00, 355.04s/it]"
          }
        },
        "b693c0cd0242463c9e61a866ed9760bc": {
          "model_module": "@jupyter-widgets/base",
          "model_name": "LayoutModel",
          "model_module_version": "1.2.0",
          "state": {
            "_model_module": "@jupyter-widgets/base",
            "_model_module_version": "1.2.0",
            "_model_name": "LayoutModel",
            "_view_count": null,
            "_view_module": "@jupyter-widgets/base",
            "_view_module_version": "1.2.0",
            "_view_name": "LayoutView",
            "align_content": null,
            "align_items": null,
            "align_self": null,
            "border": null,
            "bottom": null,
            "display": null,
            "flex": null,
            "flex_flow": null,
            "grid_area": null,
            "grid_auto_columns": null,
            "grid_auto_flow": null,
            "grid_auto_rows": null,
            "grid_column": null,
            "grid_gap": null,
            "grid_row": null,
            "grid_template_areas": null,
            "grid_template_columns": null,
            "grid_template_rows": null,
            "height": null,
            "justify_content": null,
            "justify_items": null,
            "left": null,
            "margin": null,
            "max_height": null,
            "max_width": null,
            "min_height": null,
            "min_width": null,
            "object_fit": null,
            "object_position": null,
            "order": null,
            "overflow": null,
            "overflow_x": null,
            "overflow_y": null,
            "padding": null,
            "right": null,
            "top": null,
            "visibility": null,
            "width": null
          }
        },
        "0f065ec8076d4783845fa3b185a63e32": {
          "model_module": "@jupyter-widgets/base",
          "model_name": "LayoutModel",
          "model_module_version": "1.2.0",
          "state": {
            "_model_module": "@jupyter-widgets/base",
            "_model_module_version": "1.2.0",
            "_model_name": "LayoutModel",
            "_view_count": null,
            "_view_module": "@jupyter-widgets/base",
            "_view_module_version": "1.2.0",
            "_view_name": "LayoutView",
            "align_content": null,
            "align_items": null,
            "align_self": null,
            "border": null,
            "bottom": null,
            "display": null,
            "flex": null,
            "flex_flow": null,
            "grid_area": null,
            "grid_auto_columns": null,
            "grid_auto_flow": null,
            "grid_auto_rows": null,
            "grid_column": null,
            "grid_gap": null,
            "grid_row": null,
            "grid_template_areas": null,
            "grid_template_columns": null,
            "grid_template_rows": null,
            "height": null,
            "justify_content": null,
            "justify_items": null,
            "left": null,
            "margin": null,
            "max_height": null,
            "max_width": null,
            "min_height": null,
            "min_width": null,
            "object_fit": null,
            "object_position": null,
            "order": null,
            "overflow": null,
            "overflow_x": null,
            "overflow_y": null,
            "padding": null,
            "right": null,
            "top": null,
            "visibility": null,
            "width": null
          }
        },
        "249eddf16e304f4ba118c21cda92d65d": {
          "model_module": "@jupyter-widgets/controls",
          "model_name": "DescriptionStyleModel",
          "model_module_version": "1.5.0",
          "state": {
            "_model_module": "@jupyter-widgets/controls",
            "_model_module_version": "1.5.0",
            "_model_name": "DescriptionStyleModel",
            "_view_count": null,
            "_view_module": "@jupyter-widgets/base",
            "_view_module_version": "1.2.0",
            "_view_name": "StyleView",
            "description_width": ""
          }
        },
        "4b5ec7a9870b443289ea085c585cb5e5": {
          "model_module": "@jupyter-widgets/base",
          "model_name": "LayoutModel",
          "model_module_version": "1.2.0",
          "state": {
            "_model_module": "@jupyter-widgets/base",
            "_model_module_version": "1.2.0",
            "_model_name": "LayoutModel",
            "_view_count": null,
            "_view_module": "@jupyter-widgets/base",
            "_view_module_version": "1.2.0",
            "_view_name": "LayoutView",
            "align_content": null,
            "align_items": null,
            "align_self": null,
            "border": null,
            "bottom": null,
            "display": null,
            "flex": null,
            "flex_flow": null,
            "grid_area": null,
            "grid_auto_columns": null,
            "grid_auto_flow": null,
            "grid_auto_rows": null,
            "grid_column": null,
            "grid_gap": null,
            "grid_row": null,
            "grid_template_areas": null,
            "grid_template_columns": null,
            "grid_template_rows": null,
            "height": null,
            "justify_content": null,
            "justify_items": null,
            "left": null,
            "margin": null,
            "max_height": null,
            "max_width": null,
            "min_height": null,
            "min_width": null,
            "object_fit": null,
            "object_position": null,
            "order": null,
            "overflow": null,
            "overflow_x": null,
            "overflow_y": null,
            "padding": null,
            "right": null,
            "top": null,
            "visibility": null,
            "width": null
          }
        },
        "2b7ef233cdaa435b96cc66860a4fc8f9": {
          "model_module": "@jupyter-widgets/controls",
          "model_name": "ProgressStyleModel",
          "model_module_version": "1.5.0",
          "state": {
            "_model_module": "@jupyter-widgets/controls",
            "_model_module_version": "1.5.0",
            "_model_name": "ProgressStyleModel",
            "_view_count": null,
            "_view_module": "@jupyter-widgets/base",
            "_view_module_version": "1.2.0",
            "_view_name": "StyleView",
            "bar_color": null,
            "description_width": ""
          }
        },
        "be0cba13beb9490ea3d315e4fba2db86": {
          "model_module": "@jupyter-widgets/base",
          "model_name": "LayoutModel",
          "model_module_version": "1.2.0",
          "state": {
            "_model_module": "@jupyter-widgets/base",
            "_model_module_version": "1.2.0",
            "_model_name": "LayoutModel",
            "_view_count": null,
            "_view_module": "@jupyter-widgets/base",
            "_view_module_version": "1.2.0",
            "_view_name": "LayoutView",
            "align_content": null,
            "align_items": null,
            "align_self": null,
            "border": null,
            "bottom": null,
            "display": null,
            "flex": null,
            "flex_flow": null,
            "grid_area": null,
            "grid_auto_columns": null,
            "grid_auto_flow": null,
            "grid_auto_rows": null,
            "grid_column": null,
            "grid_gap": null,
            "grid_row": null,
            "grid_template_areas": null,
            "grid_template_columns": null,
            "grid_template_rows": null,
            "height": null,
            "justify_content": null,
            "justify_items": null,
            "left": null,
            "margin": null,
            "max_height": null,
            "max_width": null,
            "min_height": null,
            "min_width": null,
            "object_fit": null,
            "object_position": null,
            "order": null,
            "overflow": null,
            "overflow_x": null,
            "overflow_y": null,
            "padding": null,
            "right": null,
            "top": null,
            "visibility": null,
            "width": null
          }
        },
        "58441d540e95428fa9c45ced459b5ba3": {
          "model_module": "@jupyter-widgets/controls",
          "model_name": "DescriptionStyleModel",
          "model_module_version": "1.5.0",
          "state": {
            "_model_module": "@jupyter-widgets/controls",
            "_model_module_version": "1.5.0",
            "_model_name": "DescriptionStyleModel",
            "_view_count": null,
            "_view_module": "@jupyter-widgets/base",
            "_view_module_version": "1.2.0",
            "_view_name": "StyleView",
            "description_width": ""
          }
        }
      }
    }
  },
  "nbformat": 4,
  "nbformat_minor": 0
}